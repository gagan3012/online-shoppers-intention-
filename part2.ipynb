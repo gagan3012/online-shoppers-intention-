{
 "cells": [
  {
   "cell_type": "code",
   "execution_count": 50,
   "metadata": {},
   "outputs": [],
   "source": [
    "import pandas as pd\n",
    "from sklearn.preprocessing import MinMaxScaler, PowerTransformer"
   ]
  },
  {
   "cell_type": "code",
   "execution_count": 51,
   "metadata": {
    "collapsed": false,
    "jupyter": {
     "outputs_hidden": false,
     "source_hidden": false
    },
    "nteract": {
     "transient": {
      "deleting": false
     }
    }
   },
   "outputs": [
    {
     "name": "stdout",
     "output_type": "stream",
     "text": [
      "Requirement already satisfied: sklearn in /anaconda/envs/azureml_py36/lib/python3.6/site-packages (0.0)\r\n",
      "Requirement already satisfied: scikit-learn in /anaconda/envs/azureml_py36/lib/python3.6/site-packages (from sklearn) (0.20.3)\r\n",
      "Requirement already satisfied: scipy>=0.13.3 in /anaconda/envs/azureml_py36/lib/python3.6/site-packages (from scikit-learn->sklearn) (1.4.1)\r\n",
      "Requirement already satisfied: numpy>=1.8.2 in /anaconda/envs/azureml_py36/lib/python3.6/site-packages (from scikit-learn->sklearn) (1.16.2)\r\n"
     ]
    }
   ],
   "source": [
    "!pip install sklearn "
   ]
  },
  {
   "cell_type": "code",
   "execution_count": 52,
   "metadata": {
    "collapsed": false,
    "jupyter": {
     "outputs_hidden": false,
     "source_hidden": false
    },
    "nteract": {
     "transient": {
      "deleting": false
     }
    }
   },
   "outputs": [
    {
     "data": {
      "text/html": [
       "<div>\n",
       "<style scoped>\n",
       "    .dataframe tbody tr th:only-of-type {\n",
       "        vertical-align: middle;\n",
       "    }\n",
       "\n",
       "    .dataframe tbody tr th {\n",
       "        vertical-align: top;\n",
       "    }\n",
       "\n",
       "    .dataframe thead th {\n",
       "        text-align: right;\n",
       "    }\n",
       "</style>\n",
       "<table border=\"1\" class=\"dataframe\">\n",
       "  <thead>\n",
       "    <tr style=\"text-align: right;\">\n",
       "      <th></th>\n",
       "      <th>Administrative</th>\n",
       "      <th>Administrative_Duration</th>\n",
       "      <th>Informational</th>\n",
       "      <th>Informational_Duration</th>\n",
       "      <th>ProductRelated</th>\n",
       "      <th>ProductRelated_Duration</th>\n",
       "      <th>BounceRates</th>\n",
       "      <th>ExitRates</th>\n",
       "      <th>PageValues</th>\n",
       "      <th>SpecialDay</th>\n",
       "      <th>Month</th>\n",
       "      <th>OperatingSystems</th>\n",
       "      <th>Browser</th>\n",
       "      <th>Region</th>\n",
       "      <th>TrafficType</th>\n",
       "      <th>VisitorType</th>\n",
       "      <th>Weekend</th>\n",
       "      <th>Revenue</th>\n",
       "    </tr>\n",
       "  </thead>\n",
       "  <tbody>\n",
       "    <tr>\n",
       "      <th>0</th>\n",
       "      <td>0.0</td>\n",
       "      <td>0.0</td>\n",
       "      <td>0.0</td>\n",
       "      <td>0.0</td>\n",
       "      <td>1.0</td>\n",
       "      <td>0.000000</td>\n",
       "      <td>0.20</td>\n",
       "      <td>0.20</td>\n",
       "      <td>0.0</td>\n",
       "      <td>0.0</td>\n",
       "      <td>Feb</td>\n",
       "      <td>1</td>\n",
       "      <td>1</td>\n",
       "      <td>1</td>\n",
       "      <td>1</td>\n",
       "      <td>Returning_Visitor</td>\n",
       "      <td>False</td>\n",
       "      <td>False</td>\n",
       "    </tr>\n",
       "    <tr>\n",
       "      <th>1</th>\n",
       "      <td>0.0</td>\n",
       "      <td>0.0</td>\n",
       "      <td>0.0</td>\n",
       "      <td>0.0</td>\n",
       "      <td>2.0</td>\n",
       "      <td>64.000000</td>\n",
       "      <td>0.00</td>\n",
       "      <td>0.10</td>\n",
       "      <td>0.0</td>\n",
       "      <td>0.0</td>\n",
       "      <td>Feb</td>\n",
       "      <td>2</td>\n",
       "      <td>2</td>\n",
       "      <td>1</td>\n",
       "      <td>2</td>\n",
       "      <td>Returning_Visitor</td>\n",
       "      <td>False</td>\n",
       "      <td>False</td>\n",
       "    </tr>\n",
       "    <tr>\n",
       "      <th>2</th>\n",
       "      <td>0.0</td>\n",
       "      <td>-1.0</td>\n",
       "      <td>0.0</td>\n",
       "      <td>-1.0</td>\n",
       "      <td>1.0</td>\n",
       "      <td>-1.000000</td>\n",
       "      <td>0.20</td>\n",
       "      <td>0.20</td>\n",
       "      <td>0.0</td>\n",
       "      <td>0.0</td>\n",
       "      <td>Feb</td>\n",
       "      <td>4</td>\n",
       "      <td>1</td>\n",
       "      <td>9</td>\n",
       "      <td>3</td>\n",
       "      <td>Returning_Visitor</td>\n",
       "      <td>False</td>\n",
       "      <td>False</td>\n",
       "    </tr>\n",
       "    <tr>\n",
       "      <th>3</th>\n",
       "      <td>0.0</td>\n",
       "      <td>0.0</td>\n",
       "      <td>0.0</td>\n",
       "      <td>0.0</td>\n",
       "      <td>2.0</td>\n",
       "      <td>2.666667</td>\n",
       "      <td>0.05</td>\n",
       "      <td>0.14</td>\n",
       "      <td>0.0</td>\n",
       "      <td>0.0</td>\n",
       "      <td>Feb</td>\n",
       "      <td>3</td>\n",
       "      <td>2</td>\n",
       "      <td>2</td>\n",
       "      <td>4</td>\n",
       "      <td>Returning_Visitor</td>\n",
       "      <td>False</td>\n",
       "      <td>False</td>\n",
       "    </tr>\n",
       "    <tr>\n",
       "      <th>4</th>\n",
       "      <td>0.0</td>\n",
       "      <td>0.0</td>\n",
       "      <td>0.0</td>\n",
       "      <td>0.0</td>\n",
       "      <td>10.0</td>\n",
       "      <td>627.500000</td>\n",
       "      <td>0.02</td>\n",
       "      <td>0.05</td>\n",
       "      <td>0.0</td>\n",
       "      <td>0.0</td>\n",
       "      <td>Feb</td>\n",
       "      <td>3</td>\n",
       "      <td>3</td>\n",
       "      <td>1</td>\n",
       "      <td>4</td>\n",
       "      <td>Returning_Visitor</td>\n",
       "      <td>True</td>\n",
       "      <td>False</td>\n",
       "    </tr>\n",
       "  </tbody>\n",
       "</table>\n",
       "</div>"
      ],
      "text/plain": [
       "   Administrative  Administrative_Duration  Informational  \\\n",
       "0             0.0                      0.0            0.0   \n",
       "1             0.0                      0.0            0.0   \n",
       "2             0.0                     -1.0            0.0   \n",
       "3             0.0                      0.0            0.0   \n",
       "4             0.0                      0.0            0.0   \n",
       "\n",
       "   Informational_Duration  ProductRelated  ProductRelated_Duration  \\\n",
       "0                     0.0             1.0                 0.000000   \n",
       "1                     0.0             2.0                64.000000   \n",
       "2                    -1.0             1.0                -1.000000   \n",
       "3                     0.0             2.0                 2.666667   \n",
       "4                     0.0            10.0               627.500000   \n",
       "\n",
       "   BounceRates  ExitRates  PageValues  SpecialDay Month  OperatingSystems  \\\n",
       "0         0.20       0.20         0.0         0.0   Feb                 1   \n",
       "1         0.00       0.10         0.0         0.0   Feb                 2   \n",
       "2         0.20       0.20         0.0         0.0   Feb                 4   \n",
       "3         0.05       0.14         0.0         0.0   Feb                 3   \n",
       "4         0.02       0.05         0.0         0.0   Feb                 3   \n",
       "\n",
       "   Browser  Region  TrafficType        VisitorType  Weekend  Revenue  \n",
       "0        1       1            1  Returning_Visitor    False    False  \n",
       "1        2       1            2  Returning_Visitor    False    False  \n",
       "2        1       9            3  Returning_Visitor    False    False  \n",
       "3        2       2            4  Returning_Visitor    False    False  \n",
       "4        3       1            4  Returning_Visitor     True    False  "
      ]
     },
     "execution_count": 52,
     "metadata": {},
     "output_type": "execute_result"
    }
   ],
   "source": [
    "df=pd.read_csv(\"https://raw.githubusercontent.com/gagan3012/online-shoppers-intention-/master/online_shoppers_intention.csv\")\n",
    "df.head()"
   ]
  },
  {
   "cell_type": "code",
   "execution_count": 53,
   "metadata": {
    "collapsed": false,
    "jupyter": {
     "outputs_hidden": false,
     "source_hidden": false
    },
    "nteract": {
     "transient": {
      "deleting": false
     }
    }
   },
   "outputs": [],
   "source": [
    "df['Administrative']=df['Administrative'].clip(lower=0,upper=20)\n",
    "df['PageValues']=df['PageValues'].clip(lower=0,upper=250)\n",
    "df['Administrative_Duration']=df['Administrative_Duration'].clip(lower=0,upper=1500)\n",
    "df['Informational']=df['Informational'].clip(lower=0,upper=10)\n",
    "df['ProductRelated_Duration']=df['ProductRelated_Duration'].clip(lower=0,upper=20000)\n",
    "df['ProductRelated']=df['ProductRelated'].clip(lower=0,upper=400)\n",
    "df['Informational_Duration']=df['Informational_Duration'].clip(lower=0,upper=1500)"
   ]
  },
  {
   "cell_type": "code",
   "execution_count": 54,
   "metadata": {
    "collapsed": false,
    "jupyter": {
     "outputs_hidden": false,
     "source_hidden": false
    },
    "nteract": {
     "transient": {
      "deleting": false
     }
    }
   },
   "outputs": [
    {
     "data": {
      "text/html": [
       "<div>\n",
       "<style scoped>\n",
       "    .dataframe tbody tr th:only-of-type {\n",
       "        vertical-align: middle;\n",
       "    }\n",
       "\n",
       "    .dataframe tbody tr th {\n",
       "        vertical-align: top;\n",
       "    }\n",
       "\n",
       "    .dataframe thead th {\n",
       "        text-align: right;\n",
       "    }\n",
       "</style>\n",
       "<table border=\"1\" class=\"dataframe\">\n",
       "  <thead>\n",
       "    <tr style=\"text-align: right;\">\n",
       "      <th></th>\n",
       "      <th>Administrative</th>\n",
       "      <th>Administrative_Duration</th>\n",
       "      <th>Informational</th>\n",
       "      <th>Informational_Duration</th>\n",
       "      <th>ProductRelated</th>\n",
       "      <th>ProductRelated_Duration</th>\n",
       "      <th>BounceRates</th>\n",
       "      <th>ExitRates</th>\n",
       "      <th>PageValues</th>\n",
       "      <th>SpecialDay</th>\n",
       "      <th>OperatingSystems</th>\n",
       "      <th>Browser</th>\n",
       "      <th>Region</th>\n",
       "      <th>TrafficType</th>\n",
       "    </tr>\n",
       "  </thead>\n",
       "  <tbody>\n",
       "    <tr>\n",
       "      <th>count</th>\n",
       "      <td>12316.000000</td>\n",
       "      <td>12316.000000</td>\n",
       "      <td>12316.000000</td>\n",
       "      <td>12316.000000</td>\n",
       "      <td>12316.000000</td>\n",
       "      <td>12316.000000</td>\n",
       "      <td>12316.000000</td>\n",
       "      <td>12316.000000</td>\n",
       "      <td>12330.000000</td>\n",
       "      <td>12330.000000</td>\n",
       "      <td>12330.000000</td>\n",
       "      <td>12330.000000</td>\n",
       "      <td>12330.000000</td>\n",
       "      <td>12330.000000</td>\n",
       "    </tr>\n",
       "    <tr>\n",
       "      <th>mean</th>\n",
       "      <td>2.313901</td>\n",
       "      <td>79.909572</td>\n",
       "      <td>0.500568</td>\n",
       "      <td>33.929274</td>\n",
       "      <td>31.630318</td>\n",
       "      <td>1187.694533</td>\n",
       "      <td>0.022152</td>\n",
       "      <td>0.043003</td>\n",
       "      <td>5.863980</td>\n",
       "      <td>0.061427</td>\n",
       "      <td>2.124006</td>\n",
       "      <td>2.357097</td>\n",
       "      <td>3.147364</td>\n",
       "      <td>4.069586</td>\n",
       "    </tr>\n",
       "    <tr>\n",
       "      <th>std</th>\n",
       "      <td>3.299558</td>\n",
       "      <td>165.983561</td>\n",
       "      <td>1.235324</td>\n",
       "      <td>133.387972</td>\n",
       "      <td>43.102423</td>\n",
       "      <td>1769.998361</td>\n",
       "      <td>0.048427</td>\n",
       "      <td>0.048527</td>\n",
       "      <td>18.173049</td>\n",
       "      <td>0.198917</td>\n",
       "      <td>0.911325</td>\n",
       "      <td>1.717277</td>\n",
       "      <td>2.401591</td>\n",
       "      <td>4.025169</td>\n",
       "    </tr>\n",
       "    <tr>\n",
       "      <th>min</th>\n",
       "      <td>0.000000</td>\n",
       "      <td>0.000000</td>\n",
       "      <td>0.000000</td>\n",
       "      <td>0.000000</td>\n",
       "      <td>0.000000</td>\n",
       "      <td>0.000000</td>\n",
       "      <td>0.000000</td>\n",
       "      <td>0.000000</td>\n",
       "      <td>0.000000</td>\n",
       "      <td>0.000000</td>\n",
       "      <td>1.000000</td>\n",
       "      <td>1.000000</td>\n",
       "      <td>1.000000</td>\n",
       "      <td>1.000000</td>\n",
       "    </tr>\n",
       "    <tr>\n",
       "      <th>25%</th>\n",
       "      <td>0.000000</td>\n",
       "      <td>0.000000</td>\n",
       "      <td>0.000000</td>\n",
       "      <td>0.000000</td>\n",
       "      <td>7.000000</td>\n",
       "      <td>185.000000</td>\n",
       "      <td>0.000000</td>\n",
       "      <td>0.014286</td>\n",
       "      <td>0.000000</td>\n",
       "      <td>0.000000</td>\n",
       "      <td>2.000000</td>\n",
       "      <td>2.000000</td>\n",
       "      <td>1.000000</td>\n",
       "      <td>2.000000</td>\n",
       "    </tr>\n",
       "    <tr>\n",
       "      <th>50%</th>\n",
       "      <td>1.000000</td>\n",
       "      <td>8.000000</td>\n",
       "      <td>0.000000</td>\n",
       "      <td>0.000000</td>\n",
       "      <td>18.000000</td>\n",
       "      <td>599.766190</td>\n",
       "      <td>0.003119</td>\n",
       "      <td>0.025124</td>\n",
       "      <td>0.000000</td>\n",
       "      <td>0.000000</td>\n",
       "      <td>2.000000</td>\n",
       "      <td>2.000000</td>\n",
       "      <td>3.000000</td>\n",
       "      <td>2.000000</td>\n",
       "    </tr>\n",
       "    <tr>\n",
       "      <th>75%</th>\n",
       "      <td>4.000000</td>\n",
       "      <td>93.500000</td>\n",
       "      <td>0.000000</td>\n",
       "      <td>0.000000</td>\n",
       "      <td>38.000000</td>\n",
       "      <td>1466.479902</td>\n",
       "      <td>0.016684</td>\n",
       "      <td>0.050000</td>\n",
       "      <td>0.000000</td>\n",
       "      <td>0.000000</td>\n",
       "      <td>3.000000</td>\n",
       "      <td>2.000000</td>\n",
       "      <td>4.000000</td>\n",
       "      <td>4.000000</td>\n",
       "    </tr>\n",
       "    <tr>\n",
       "      <th>max</th>\n",
       "      <td>20.000000</td>\n",
       "      <td>1500.000000</td>\n",
       "      <td>10.000000</td>\n",
       "      <td>1500.000000</td>\n",
       "      <td>400.000000</td>\n",
       "      <td>20000.000000</td>\n",
       "      <td>0.200000</td>\n",
       "      <td>0.200000</td>\n",
       "      <td>250.000000</td>\n",
       "      <td>1.000000</td>\n",
       "      <td>8.000000</td>\n",
       "      <td>13.000000</td>\n",
       "      <td>9.000000</td>\n",
       "      <td>20.000000</td>\n",
       "    </tr>\n",
       "  </tbody>\n",
       "</table>\n",
       "</div>"
      ],
      "text/plain": [
       "       Administrative  Administrative_Duration  Informational  \\\n",
       "count    12316.000000             12316.000000   12316.000000   \n",
       "mean         2.313901                79.909572       0.500568   \n",
       "std          3.299558               165.983561       1.235324   \n",
       "min          0.000000                 0.000000       0.000000   \n",
       "25%          0.000000                 0.000000       0.000000   \n",
       "50%          1.000000                 8.000000       0.000000   \n",
       "75%          4.000000                93.500000       0.000000   \n",
       "max         20.000000              1500.000000      10.000000   \n",
       "\n",
       "       Informational_Duration  ProductRelated  ProductRelated_Duration  \\\n",
       "count            12316.000000    12316.000000             12316.000000   \n",
       "mean                33.929274       31.630318              1187.694533   \n",
       "std                133.387972       43.102423              1769.998361   \n",
       "min                  0.000000        0.000000                 0.000000   \n",
       "25%                  0.000000        7.000000               185.000000   \n",
       "50%                  0.000000       18.000000               599.766190   \n",
       "75%                  0.000000       38.000000              1466.479902   \n",
       "max               1500.000000      400.000000             20000.000000   \n",
       "\n",
       "        BounceRates     ExitRates    PageValues    SpecialDay  \\\n",
       "count  12316.000000  12316.000000  12330.000000  12330.000000   \n",
       "mean       0.022152      0.043003      5.863980      0.061427   \n",
       "std        0.048427      0.048527     18.173049      0.198917   \n",
       "min        0.000000      0.000000      0.000000      0.000000   \n",
       "25%        0.000000      0.014286      0.000000      0.000000   \n",
       "50%        0.003119      0.025124      0.000000      0.000000   \n",
       "75%        0.016684      0.050000      0.000000      0.000000   \n",
       "max        0.200000      0.200000    250.000000      1.000000   \n",
       "\n",
       "       OperatingSystems       Browser        Region   TrafficType  \n",
       "count      12330.000000  12330.000000  12330.000000  12330.000000  \n",
       "mean           2.124006      2.357097      3.147364      4.069586  \n",
       "std            0.911325      1.717277      2.401591      4.025169  \n",
       "min            1.000000      1.000000      1.000000      1.000000  \n",
       "25%            2.000000      2.000000      1.000000      2.000000  \n",
       "50%            2.000000      2.000000      3.000000      2.000000  \n",
       "75%            3.000000      2.000000      4.000000      4.000000  \n",
       "max            8.000000     13.000000      9.000000     20.000000  "
      ]
     },
     "execution_count": 54,
     "metadata": {},
     "output_type": "execute_result"
    }
   ],
   "source": [
    "cat_dtype = pd.api.types.CategoricalDtype(categories=['Feb', 'Mar', 'May', 'June', 'Jul', 'Aug', 'Sep', 'Oct', 'Nov','Dec'],\n",
    "                                          ordered=True)#ordered dtype for month\n",
    "df['Month']=df['Month'].astype(cat_dtype)\n",
    "df.describe()"
   ]
  },
  {
   "cell_type": "code",
   "execution_count": 55,
   "metadata": {
    "collapsed": false,
    "jupyter": {
     "outputs_hidden": false,
     "source_hidden": false
    },
    "nteract": {
     "transient": {
      "deleting": false
     }
    }
   },
   "outputs": [],
   "source": [
    "cat_cols=['Weekend','VisitorType','Region','Browser','OperatingSystems','TrafficType']\n",
    "df[cat_cols]=df[cat_cols].astype('category')\n",
    "df =df.dropna()"
   ]
  },
  {
   "cell_type": "code",
   "execution_count": 56,
   "metadata": {
    "collapsed": false,
    "jupyter": {
     "outputs_hidden": false,
     "source_hidden": false
    },
    "nteract": {
     "transient": {
      "deleting": false
     }
    }
   },
   "outputs": [],
   "source": [
    "df_encoded=pd.get_dummies(df,columns=cat_cols+['Month'],prefix=cat_cols+['Month'])\n"
   ]
  },
  {
   "cell_type": "code",
   "execution_count": 57,
   "metadata": {
    "collapsed": false,
    "jupyter": {
     "outputs_hidden": false,
     "source_hidden": false
    },
    "nteract": {
     "transient": {
      "deleting": false
     }
    }
   },
   "outputs": [],
   "source": [
    "numeric_cols = df.select_dtypes(include='float64').columns\n"
   ]
  },
  {
   "cell_type": "code",
   "execution_count": 58,
   "metadata": {
    "collapsed": false,
    "jupyter": {
     "outputs_hidden": false,
     "source_hidden": false
    },
    "nteract": {
     "transient": {
      "deleting": false
     }
    }
   },
   "outputs": [],
   "source": [
    "scaler = MinMaxScaler()\n",
    "pt=PowerTransformer()\n",
    "df_transformed = df_encoded.copy()\n",
    "df_scaled = df_encoded.copy()\n",
    "df_scaled[numeric_cols]= scaler.fit_transform(df_encoded[numeric_cols])\n",
    "df_transformed[numeric_cols]= pt.fit_transform(df_encoded[numeric_cols])"
   ]
  },
  {
   "cell_type": "code",
   "execution_count": 59,
   "metadata": {
    "collapsed": false,
    "jupyter": {
     "outputs_hidden": false,
     "source_hidden": false
    },
    "nteract": {
     "transient": {
      "deleting": false
     }
    }
   },
   "outputs": [
    {
     "data": {
      "text/html": [
       "<div>\n",
       "<style scoped>\n",
       "    .dataframe tbody tr th:only-of-type {\n",
       "        vertical-align: middle;\n",
       "    }\n",
       "\n",
       "    .dataframe tbody tr th {\n",
       "        vertical-align: top;\n",
       "    }\n",
       "\n",
       "    .dataframe thead th {\n",
       "        text-align: right;\n",
       "    }\n",
       "</style>\n",
       "<table border=\"1\" class=\"dataframe\">\n",
       "  <thead>\n",
       "    <tr style=\"text-align: right;\">\n",
       "      <th></th>\n",
       "      <th>Administrative</th>\n",
       "      <th>Administrative_Duration</th>\n",
       "      <th>Informational</th>\n",
       "      <th>Informational_Duration</th>\n",
       "      <th>ProductRelated</th>\n",
       "      <th>ProductRelated_Duration</th>\n",
       "      <th>BounceRates</th>\n",
       "      <th>ExitRates</th>\n",
       "      <th>PageValues</th>\n",
       "      <th>SpecialDay</th>\n",
       "      <th>...</th>\n",
       "      <th>Month_Feb</th>\n",
       "      <th>Month_Mar</th>\n",
       "      <th>Month_May</th>\n",
       "      <th>Month_June</th>\n",
       "      <th>Month_Jul</th>\n",
       "      <th>Month_Aug</th>\n",
       "      <th>Month_Sep</th>\n",
       "      <th>Month_Oct</th>\n",
       "      <th>Month_Nov</th>\n",
       "      <th>Month_Dec</th>\n",
       "    </tr>\n",
       "  </thead>\n",
       "  <tbody>\n",
       "    <tr>\n",
       "      <th>0</th>\n",
       "      <td>0.0</td>\n",
       "      <td>0.0</td>\n",
       "      <td>0.0</td>\n",
       "      <td>0.0</td>\n",
       "      <td>0.0025</td>\n",
       "      <td>0.000000</td>\n",
       "      <td>1.00</td>\n",
       "      <td>1.00</td>\n",
       "      <td>0.0</td>\n",
       "      <td>0.0</td>\n",
       "      <td>...</td>\n",
       "      <td>1</td>\n",
       "      <td>0</td>\n",
       "      <td>0</td>\n",
       "      <td>0</td>\n",
       "      <td>0</td>\n",
       "      <td>0</td>\n",
       "      <td>0</td>\n",
       "      <td>0</td>\n",
       "      <td>0</td>\n",
       "      <td>0</td>\n",
       "    </tr>\n",
       "    <tr>\n",
       "      <th>1</th>\n",
       "      <td>0.0</td>\n",
       "      <td>0.0</td>\n",
       "      <td>0.0</td>\n",
       "      <td>0.0</td>\n",
       "      <td>0.0050</td>\n",
       "      <td>0.003200</td>\n",
       "      <td>0.00</td>\n",
       "      <td>0.50</td>\n",
       "      <td>0.0</td>\n",
       "      <td>0.0</td>\n",
       "      <td>...</td>\n",
       "      <td>1</td>\n",
       "      <td>0</td>\n",
       "      <td>0</td>\n",
       "      <td>0</td>\n",
       "      <td>0</td>\n",
       "      <td>0</td>\n",
       "      <td>0</td>\n",
       "      <td>0</td>\n",
       "      <td>0</td>\n",
       "      <td>0</td>\n",
       "    </tr>\n",
       "    <tr>\n",
       "      <th>2</th>\n",
       "      <td>0.0</td>\n",
       "      <td>0.0</td>\n",
       "      <td>0.0</td>\n",
       "      <td>0.0</td>\n",
       "      <td>0.0025</td>\n",
       "      <td>0.000000</td>\n",
       "      <td>1.00</td>\n",
       "      <td>1.00</td>\n",
       "      <td>0.0</td>\n",
       "      <td>0.0</td>\n",
       "      <td>...</td>\n",
       "      <td>1</td>\n",
       "      <td>0</td>\n",
       "      <td>0</td>\n",
       "      <td>0</td>\n",
       "      <td>0</td>\n",
       "      <td>0</td>\n",
       "      <td>0</td>\n",
       "      <td>0</td>\n",
       "      <td>0</td>\n",
       "      <td>0</td>\n",
       "    </tr>\n",
       "    <tr>\n",
       "      <th>3</th>\n",
       "      <td>0.0</td>\n",
       "      <td>0.0</td>\n",
       "      <td>0.0</td>\n",
       "      <td>0.0</td>\n",
       "      <td>0.0050</td>\n",
       "      <td>0.000133</td>\n",
       "      <td>0.25</td>\n",
       "      <td>0.70</td>\n",
       "      <td>0.0</td>\n",
       "      <td>0.0</td>\n",
       "      <td>...</td>\n",
       "      <td>1</td>\n",
       "      <td>0</td>\n",
       "      <td>0</td>\n",
       "      <td>0</td>\n",
       "      <td>0</td>\n",
       "      <td>0</td>\n",
       "      <td>0</td>\n",
       "      <td>0</td>\n",
       "      <td>0</td>\n",
       "      <td>0</td>\n",
       "    </tr>\n",
       "    <tr>\n",
       "      <th>4</th>\n",
       "      <td>0.0</td>\n",
       "      <td>0.0</td>\n",
       "      <td>0.0</td>\n",
       "      <td>0.0</td>\n",
       "      <td>0.0250</td>\n",
       "      <td>0.031375</td>\n",
       "      <td>0.10</td>\n",
       "      <td>0.25</td>\n",
       "      <td>0.0</td>\n",
       "      <td>0.0</td>\n",
       "      <td>...</td>\n",
       "      <td>1</td>\n",
       "      <td>0</td>\n",
       "      <td>0</td>\n",
       "      <td>0</td>\n",
       "      <td>0</td>\n",
       "      <td>0</td>\n",
       "      <td>0</td>\n",
       "      <td>0</td>\n",
       "      <td>0</td>\n",
       "      <td>0</td>\n",
       "    </tr>\n",
       "  </tbody>\n",
       "</table>\n",
       "<p>5 rows × 76 columns</p>\n",
       "</div>"
      ],
      "text/plain": [
       "   Administrative  Administrative_Duration  Informational  \\\n",
       "0             0.0                      0.0            0.0   \n",
       "1             0.0                      0.0            0.0   \n",
       "2             0.0                      0.0            0.0   \n",
       "3             0.0                      0.0            0.0   \n",
       "4             0.0                      0.0            0.0   \n",
       "\n",
       "   Informational_Duration  ProductRelated  ProductRelated_Duration  \\\n",
       "0                     0.0          0.0025                 0.000000   \n",
       "1                     0.0          0.0050                 0.003200   \n",
       "2                     0.0          0.0025                 0.000000   \n",
       "3                     0.0          0.0050                 0.000133   \n",
       "4                     0.0          0.0250                 0.031375   \n",
       "\n",
       "   BounceRates  ExitRates  PageValues  SpecialDay    ...      Month_Feb  \\\n",
       "0         1.00       1.00         0.0         0.0    ...              1   \n",
       "1         0.00       0.50         0.0         0.0    ...              1   \n",
       "2         1.00       1.00         0.0         0.0    ...              1   \n",
       "3         0.25       0.70         0.0         0.0    ...              1   \n",
       "4         0.10       0.25         0.0         0.0    ...              1   \n",
       "\n",
       "   Month_Mar  Month_May  Month_June  Month_Jul  Month_Aug  Month_Sep  \\\n",
       "0          0          0           0          0          0          0   \n",
       "1          0          0           0          0          0          0   \n",
       "2          0          0           0          0          0          0   \n",
       "3          0          0           0          0          0          0   \n",
       "4          0          0           0          0          0          0   \n",
       "\n",
       "   Month_Oct  Month_Nov  Month_Dec  \n",
       "0          0          0          0  \n",
       "1          0          0          0  \n",
       "2          0          0          0  \n",
       "3          0          0          0  \n",
       "4          0          0          0  \n",
       "\n",
       "[5 rows x 76 columns]"
      ]
     },
     "execution_count": 59,
     "metadata": {},
     "output_type": "execute_result"
    }
   ],
   "source": [
    "df_scaled.head()\n"
   ]
  },
  {
   "cell_type": "code",
   "execution_count": 60,
   "metadata": {
    "collapsed": false,
    "jupyter": {
     "outputs_hidden": false,
     "source_hidden": false
    },
    "nteract": {
     "transient": {
      "deleting": false
     }
    }
   },
   "outputs": [
    {
     "data": {
      "text/html": [
       "<div>\n",
       "<style scoped>\n",
       "    .dataframe tbody tr th:only-of-type {\n",
       "        vertical-align: middle;\n",
       "    }\n",
       "\n",
       "    .dataframe tbody tr th {\n",
       "        vertical-align: top;\n",
       "    }\n",
       "\n",
       "    .dataframe thead th {\n",
       "        text-align: right;\n",
       "    }\n",
       "</style>\n",
       "<table border=\"1\" class=\"dataframe\">\n",
       "  <thead>\n",
       "    <tr style=\"text-align: right;\">\n",
       "      <th></th>\n",
       "      <th>Administrative</th>\n",
       "      <th>Administrative_Duration</th>\n",
       "      <th>Informational</th>\n",
       "      <th>Informational_Duration</th>\n",
       "      <th>ProductRelated</th>\n",
       "      <th>ProductRelated_Duration</th>\n",
       "      <th>BounceRates</th>\n",
       "      <th>ExitRates</th>\n",
       "      <th>PageValues</th>\n",
       "      <th>SpecialDay</th>\n",
       "      <th>...</th>\n",
       "      <th>Month_Feb</th>\n",
       "      <th>Month_Mar</th>\n",
       "      <th>Month_May</th>\n",
       "      <th>Month_June</th>\n",
       "      <th>Month_Jul</th>\n",
       "      <th>Month_Aug</th>\n",
       "      <th>Month_Sep</th>\n",
       "      <th>Month_Oct</th>\n",
       "      <th>Month_Nov</th>\n",
       "      <th>Month_Dec</th>\n",
       "    </tr>\n",
       "  </thead>\n",
       "  <tbody>\n",
       "    <tr>\n",
       "      <th>0</th>\n",
       "      <td>-0.991065</td>\n",
       "      <td>-0.997544</td>\n",
       "      <td>-0.52074</td>\n",
       "      <td>-0.491916</td>\n",
       "      <td>-1.923024</td>\n",
       "      <td>-2.094361</td>\n",
       "      <td>2.207184</td>\n",
       "      <td>1.983626</td>\n",
       "      <td>-0.529787</td>\n",
       "      <td>-0.336232</td>\n",
       "      <td>...</td>\n",
       "      <td>1</td>\n",
       "      <td>0</td>\n",
       "      <td>0</td>\n",
       "      <td>0</td>\n",
       "      <td>0</td>\n",
       "      <td>0</td>\n",
       "      <td>0</td>\n",
       "      <td>0</td>\n",
       "      <td>0</td>\n",
       "      <td>0</td>\n",
       "    </tr>\n",
       "    <tr>\n",
       "      <th>1</th>\n",
       "      <td>-0.991065</td>\n",
       "      <td>-0.997544</td>\n",
       "      <td>-0.52074</td>\n",
       "      <td>-0.491916</td>\n",
       "      <td>-1.576413</td>\n",
       "      <td>-1.078325</td>\n",
       "      <td>-0.799476</td>\n",
       "      <td>1.571869</td>\n",
       "      <td>-0.529787</td>\n",
       "      <td>-0.336232</td>\n",
       "      <td>...</td>\n",
       "      <td>1</td>\n",
       "      <td>0</td>\n",
       "      <td>0</td>\n",
       "      <td>0</td>\n",
       "      <td>0</td>\n",
       "      <td>0</td>\n",
       "      <td>0</td>\n",
       "      <td>0</td>\n",
       "      <td>0</td>\n",
       "      <td>0</td>\n",
       "    </tr>\n",
       "    <tr>\n",
       "      <th>2</th>\n",
       "      <td>-0.991065</td>\n",
       "      <td>-0.997544</td>\n",
       "      <td>-0.52074</td>\n",
       "      <td>-0.491916</td>\n",
       "      <td>-1.923024</td>\n",
       "      <td>-2.094361</td>\n",
       "      <td>2.207184</td>\n",
       "      <td>1.983626</td>\n",
       "      <td>-0.529787</td>\n",
       "      <td>-0.336232</td>\n",
       "      <td>...</td>\n",
       "      <td>1</td>\n",
       "      <td>0</td>\n",
       "      <td>0</td>\n",
       "      <td>0</td>\n",
       "      <td>0</td>\n",
       "      <td>0</td>\n",
       "      <td>0</td>\n",
       "      <td>0</td>\n",
       "      <td>0</td>\n",
       "      <td>0</td>\n",
       "    </tr>\n",
       "    <tr>\n",
       "      <th>3</th>\n",
       "      <td>-0.991065</td>\n",
       "      <td>-0.997544</td>\n",
       "      <td>-0.52074</td>\n",
       "      <td>-0.491916</td>\n",
       "      <td>-1.576413</td>\n",
       "      <td>-1.875374</td>\n",
       "      <td>1.711008</td>\n",
       "      <td>1.833617</td>\n",
       "      <td>-0.529787</td>\n",
       "      <td>-0.336232</td>\n",
       "      <td>...</td>\n",
       "      <td>1</td>\n",
       "      <td>0</td>\n",
       "      <td>0</td>\n",
       "      <td>0</td>\n",
       "      <td>0</td>\n",
       "      <td>0</td>\n",
       "      <td>0</td>\n",
       "      <td>0</td>\n",
       "      <td>0</td>\n",
       "      <td>0</td>\n",
       "    </tr>\n",
       "    <tr>\n",
       "      <th>4</th>\n",
       "      <td>-0.991065</td>\n",
       "      <td>-0.997544</td>\n",
       "      <td>-0.52074</td>\n",
       "      <td>-0.491916</td>\n",
       "      <td>-0.445603</td>\n",
       "      <td>0.054466</td>\n",
       "      <td>0.758331</td>\n",
       "      <td>0.724766</td>\n",
       "      <td>-0.529787</td>\n",
       "      <td>-0.336232</td>\n",
       "      <td>...</td>\n",
       "      <td>1</td>\n",
       "      <td>0</td>\n",
       "      <td>0</td>\n",
       "      <td>0</td>\n",
       "      <td>0</td>\n",
       "      <td>0</td>\n",
       "      <td>0</td>\n",
       "      <td>0</td>\n",
       "      <td>0</td>\n",
       "      <td>0</td>\n",
       "    </tr>\n",
       "  </tbody>\n",
       "</table>\n",
       "<p>5 rows × 76 columns</p>\n",
       "</div>"
      ],
      "text/plain": [
       "   Administrative  Administrative_Duration  Informational  \\\n",
       "0       -0.991065                -0.997544       -0.52074   \n",
       "1       -0.991065                -0.997544       -0.52074   \n",
       "2       -0.991065                -0.997544       -0.52074   \n",
       "3       -0.991065                -0.997544       -0.52074   \n",
       "4       -0.991065                -0.997544       -0.52074   \n",
       "\n",
       "   Informational_Duration  ProductRelated  ProductRelated_Duration  \\\n",
       "0               -0.491916       -1.923024                -2.094361   \n",
       "1               -0.491916       -1.576413                -1.078325   \n",
       "2               -0.491916       -1.923024                -2.094361   \n",
       "3               -0.491916       -1.576413                -1.875374   \n",
       "4               -0.491916       -0.445603                 0.054466   \n",
       "\n",
       "   BounceRates  ExitRates  PageValues  SpecialDay    ...      Month_Feb  \\\n",
       "0     2.207184   1.983626   -0.529787   -0.336232    ...              1   \n",
       "1    -0.799476   1.571869   -0.529787   -0.336232    ...              1   \n",
       "2     2.207184   1.983626   -0.529787   -0.336232    ...              1   \n",
       "3     1.711008   1.833617   -0.529787   -0.336232    ...              1   \n",
       "4     0.758331   0.724766   -0.529787   -0.336232    ...              1   \n",
       "\n",
       "   Month_Mar  Month_May  Month_June  Month_Jul  Month_Aug  Month_Sep  \\\n",
       "0          0          0           0          0          0          0   \n",
       "1          0          0           0          0          0          0   \n",
       "2          0          0           0          0          0          0   \n",
       "3          0          0           0          0          0          0   \n",
       "4          0          0           0          0          0          0   \n",
       "\n",
       "   Month_Oct  Month_Nov  Month_Dec  \n",
       "0          0          0          0  \n",
       "1          0          0          0  \n",
       "2          0          0          0  \n",
       "3          0          0          0  \n",
       "4          0          0          0  \n",
       "\n",
       "[5 rows x 76 columns]"
      ]
     },
     "execution_count": 60,
     "metadata": {},
     "output_type": "execute_result"
    }
   ],
   "source": [
    "df_transformed.head()\n"
   ]
  },
  {
   "cell_type": "code",
   "execution_count": 61,
   "metadata": {
    "collapsed": false,
    "jupyter": {
     "outputs_hidden": false,
     "source_hidden": false
    },
    "nteract": {
     "transient": {
      "deleting": false
     }
    }
   },
   "outputs": [
    {
     "data": {
      "text/html": [
       "<div>\n",
       "<style scoped>\n",
       "    .dataframe tbody tr th:only-of-type {\n",
       "        vertical-align: middle;\n",
       "    }\n",
       "\n",
       "    .dataframe tbody tr th {\n",
       "        vertical-align: top;\n",
       "    }\n",
       "\n",
       "    .dataframe thead th {\n",
       "        text-align: right;\n",
       "    }\n",
       "</style>\n",
       "<table border=\"1\" class=\"dataframe\">\n",
       "  <thead>\n",
       "    <tr style=\"text-align: right;\">\n",
       "      <th></th>\n",
       "      <th>Administrative</th>\n",
       "      <th>Administrative_Duration</th>\n",
       "      <th>Informational</th>\n",
       "      <th>Informational_Duration</th>\n",
       "      <th>ProductRelated</th>\n",
       "      <th>ProductRelated_Duration</th>\n",
       "      <th>BounceRates</th>\n",
       "      <th>ExitRates</th>\n",
       "      <th>PageValues</th>\n",
       "      <th>SpecialDay</th>\n",
       "      <th>...</th>\n",
       "      <th>Month_Feb</th>\n",
       "      <th>Month_Mar</th>\n",
       "      <th>Month_May</th>\n",
       "      <th>Month_June</th>\n",
       "      <th>Month_Jul</th>\n",
       "      <th>Month_Aug</th>\n",
       "      <th>Month_Sep</th>\n",
       "      <th>Month_Oct</th>\n",
       "      <th>Month_Nov</th>\n",
       "      <th>Month_Dec</th>\n",
       "    </tr>\n",
       "  </thead>\n",
       "  <tbody>\n",
       "    <tr>\n",
       "      <th>0</th>\n",
       "      <td>0.0</td>\n",
       "      <td>0.0</td>\n",
       "      <td>0.0</td>\n",
       "      <td>0.0</td>\n",
       "      <td>1.0</td>\n",
       "      <td>0.000000</td>\n",
       "      <td>0.20</td>\n",
       "      <td>0.20</td>\n",
       "      <td>0.0</td>\n",
       "      <td>0.0</td>\n",
       "      <td>...</td>\n",
       "      <td>1</td>\n",
       "      <td>0</td>\n",
       "      <td>0</td>\n",
       "      <td>0</td>\n",
       "      <td>0</td>\n",
       "      <td>0</td>\n",
       "      <td>0</td>\n",
       "      <td>0</td>\n",
       "      <td>0</td>\n",
       "      <td>0</td>\n",
       "    </tr>\n",
       "    <tr>\n",
       "      <th>1</th>\n",
       "      <td>0.0</td>\n",
       "      <td>0.0</td>\n",
       "      <td>0.0</td>\n",
       "      <td>0.0</td>\n",
       "      <td>2.0</td>\n",
       "      <td>64.000000</td>\n",
       "      <td>0.00</td>\n",
       "      <td>0.10</td>\n",
       "      <td>0.0</td>\n",
       "      <td>0.0</td>\n",
       "      <td>...</td>\n",
       "      <td>1</td>\n",
       "      <td>0</td>\n",
       "      <td>0</td>\n",
       "      <td>0</td>\n",
       "      <td>0</td>\n",
       "      <td>0</td>\n",
       "      <td>0</td>\n",
       "      <td>0</td>\n",
       "      <td>0</td>\n",
       "      <td>0</td>\n",
       "    </tr>\n",
       "    <tr>\n",
       "      <th>2</th>\n",
       "      <td>0.0</td>\n",
       "      <td>0.0</td>\n",
       "      <td>0.0</td>\n",
       "      <td>0.0</td>\n",
       "      <td>1.0</td>\n",
       "      <td>0.000000</td>\n",
       "      <td>0.20</td>\n",
       "      <td>0.20</td>\n",
       "      <td>0.0</td>\n",
       "      <td>0.0</td>\n",
       "      <td>...</td>\n",
       "      <td>1</td>\n",
       "      <td>0</td>\n",
       "      <td>0</td>\n",
       "      <td>0</td>\n",
       "      <td>0</td>\n",
       "      <td>0</td>\n",
       "      <td>0</td>\n",
       "      <td>0</td>\n",
       "      <td>0</td>\n",
       "      <td>0</td>\n",
       "    </tr>\n",
       "    <tr>\n",
       "      <th>3</th>\n",
       "      <td>0.0</td>\n",
       "      <td>0.0</td>\n",
       "      <td>0.0</td>\n",
       "      <td>0.0</td>\n",
       "      <td>2.0</td>\n",
       "      <td>2.666667</td>\n",
       "      <td>0.05</td>\n",
       "      <td>0.14</td>\n",
       "      <td>0.0</td>\n",
       "      <td>0.0</td>\n",
       "      <td>...</td>\n",
       "      <td>1</td>\n",
       "      <td>0</td>\n",
       "      <td>0</td>\n",
       "      <td>0</td>\n",
       "      <td>0</td>\n",
       "      <td>0</td>\n",
       "      <td>0</td>\n",
       "      <td>0</td>\n",
       "      <td>0</td>\n",
       "      <td>0</td>\n",
       "    </tr>\n",
       "    <tr>\n",
       "      <th>4</th>\n",
       "      <td>0.0</td>\n",
       "      <td>0.0</td>\n",
       "      <td>0.0</td>\n",
       "      <td>0.0</td>\n",
       "      <td>10.0</td>\n",
       "      <td>627.500000</td>\n",
       "      <td>0.02</td>\n",
       "      <td>0.05</td>\n",
       "      <td>0.0</td>\n",
       "      <td>0.0</td>\n",
       "      <td>...</td>\n",
       "      <td>1</td>\n",
       "      <td>0</td>\n",
       "      <td>0</td>\n",
       "      <td>0</td>\n",
       "      <td>0</td>\n",
       "      <td>0</td>\n",
       "      <td>0</td>\n",
       "      <td>0</td>\n",
       "      <td>0</td>\n",
       "      <td>0</td>\n",
       "    </tr>\n",
       "  </tbody>\n",
       "</table>\n",
       "<p>5 rows × 76 columns</p>\n",
       "</div>"
      ],
      "text/plain": [
       "   Administrative  Administrative_Duration  Informational  \\\n",
       "0             0.0                      0.0            0.0   \n",
       "1             0.0                      0.0            0.0   \n",
       "2             0.0                      0.0            0.0   \n",
       "3             0.0                      0.0            0.0   \n",
       "4             0.0                      0.0            0.0   \n",
       "\n",
       "   Informational_Duration  ProductRelated  ProductRelated_Duration  \\\n",
       "0                     0.0             1.0                 0.000000   \n",
       "1                     0.0             2.0                64.000000   \n",
       "2                     0.0             1.0                 0.000000   \n",
       "3                     0.0             2.0                 2.666667   \n",
       "4                     0.0            10.0               627.500000   \n",
       "\n",
       "   BounceRates  ExitRates  PageValues  SpecialDay    ...      Month_Feb  \\\n",
       "0         0.20       0.20         0.0         0.0    ...              1   \n",
       "1         0.00       0.10         0.0         0.0    ...              1   \n",
       "2         0.20       0.20         0.0         0.0    ...              1   \n",
       "3         0.05       0.14         0.0         0.0    ...              1   \n",
       "4         0.02       0.05         0.0         0.0    ...              1   \n",
       "\n",
       "   Month_Mar  Month_May  Month_June  Month_Jul  Month_Aug  Month_Sep  \\\n",
       "0          0          0           0          0          0          0   \n",
       "1          0          0           0          0          0          0   \n",
       "2          0          0           0          0          0          0   \n",
       "3          0          0           0          0          0          0   \n",
       "4          0          0           0          0          0          0   \n",
       "\n",
       "   Month_Oct  Month_Nov  Month_Dec  \n",
       "0          0          0          0  \n",
       "1          0          0          0  \n",
       "2          0          0          0  \n",
       "3          0          0          0  \n",
       "4          0          0          0  \n",
       "\n",
       "[5 rows x 76 columns]"
      ]
     },
     "execution_count": 61,
     "metadata": {},
     "output_type": "execute_result"
    }
   ],
   "source": [
    "df_encoded.head()\n"
   ]
  },
  {
   "cell_type": "code",
   "execution_count": 62,
   "metadata": {
    "collapsed": false,
    "jupyter": {
     "outputs_hidden": false,
     "source_hidden": false
    },
    "nteract": {
     "transient": {
      "deleting": false
     }
    }
   },
   "outputs": [
    {
     "name": "stdout",
     "output_type": "stream",
     "text": [
      "Requirement already satisfied: lightgbm in /anaconda/envs/azureml_py36/lib/python3.6/site-packages (2.3.0)\n",
      "Requirement already satisfied: numpy in /anaconda/envs/azureml_py36/lib/python3.6/site-packages (from lightgbm) (1.16.2)\n",
      "Requirement already satisfied: scikit-learn in /anaconda/envs/azureml_py36/lib/python3.6/site-packages (from lightgbm) (0.20.3)\n",
      "Requirement already satisfied: scipy in /anaconda/envs/azureml_py36/lib/python3.6/site-packages (from lightgbm) (1.4.1)\n"
     ]
    }
   ],
   "source": [
    "!pip install lightgbm \n"
   ]
  },
  {
   "cell_type": "code",
   "execution_count": 63,
   "metadata": {
    "collapsed": false,
    "jupyter": {
     "outputs_hidden": false,
     "source_hidden": false
    },
    "nteract": {
     "transient": {
      "deleting": false
     }
    }
   },
   "outputs": [
    {
     "name": "stdout",
     "output_type": "stream",
     "text": [
      "Requirement already satisfied: hyperopt in /anaconda/envs/azureml_py36/lib/python3.6/site-packages (0.2.3)\n",
      "Requirement already satisfied: numpy in /anaconda/envs/azureml_py36/lib/python3.6/site-packages (from hyperopt) (1.16.2)\n",
      "Requirement already satisfied: scipy in /anaconda/envs/azureml_py36/lib/python3.6/site-packages (from hyperopt) (1.4.1)\n",
      "Requirement already satisfied: future in /anaconda/envs/azureml_py36/lib/python3.6/site-packages (from hyperopt) (0.18.2)\n",
      "Requirement already satisfied: tqdm in /anaconda/envs/azureml_py36/lib/python3.6/site-packages (from hyperopt) (4.40.2)\n",
      "Requirement already satisfied: cloudpickle in /anaconda/envs/azureml_py36/lib/python3.6/site-packages (from hyperopt) (1.2.2)\n",
      "Requirement already satisfied: networkx==2.2 in /anaconda/envs/azureml_py36/lib/python3.6/site-packages (from hyperopt) (2.2)\n",
      "Requirement already satisfied: six in /anaconda/envs/azureml_py36/lib/python3.6/site-packages (from hyperopt) (1.13.0)\n",
      "Requirement already satisfied: decorator>=4.3.0 in /anaconda/envs/azureml_py36/lib/python3.6/site-packages (from networkx==2.2->hyperopt) (4.4.0)\n"
     ]
    }
   ],
   "source": [
    "!pip install hyperopt\n"
   ]
  },
  {
   "cell_type": "code",
   "execution_count": 64,
   "metadata": {
    "collapsed": false,
    "jupyter": {
     "outputs_hidden": false,
     "source_hidden": false
    },
    "nteract": {
     "transient": {
      "deleting": false
     }
    }
   },
   "outputs": [],
   "source": [
    "import lightgbm as lgb #light gradient boosted tree\n",
    "from sklearn.model_selection import train_test_split, StratifiedKFold # train and test split\n",
    "from sklearn.metrics import balanced_accuracy_score,precision_score# metrics\n",
    "from hyperopt import fmin, tpe, hp, Trials, STATUS_OK# optimization\n",
    "import numpy as np\n",
    "import pandas as pd # reading data"
   ]
  },
  {
   "cell_type": "code",
   "execution_count": 65,
   "metadata": {
    "collapsed": false,
    "jupyter": {
     "outputs_hidden": false,
     "source_hidden": false
    },
    "nteract": {
     "transient": {
      "deleting": false
     }
    }
   },
   "outputs": [],
   "source": [
    "label = df_encoded.pop('Revenue').astype('int')\n",
    "_,_ = df_scaled.pop('Revenue'),df_transformed.pop('Revenue')"
   ]
  },
  {
   "cell_type": "code",
   "execution_count": 66,
   "metadata": {
    "collapsed": false,
    "jupyter": {
     "outputs_hidden": false,
     "source_hidden": false
    },
    "nteract": {
     "transient": {
      "deleting": false
     }
    }
   },
   "outputs": [],
   "source": [
    "skf = StratifiedKFold(n_splits=5, random_state=None, shuffle=True)\n",
    "#Hyperparameter search space for gradient boosed trees\n",
    "lgb_space = {'lr':hp.loguniform('lr',-6.9,-2.3),'num_leaves':hp.quniform('num_leaves',15,255,1),\n",
    "         'max_depth':hp.choice('max_depth',[-1,9,12]),'colsample_bytree': hp.uniform('colsample_bytree', 0.3, 1.0)}"
   ]
  },
  {
   "cell_type": "code",
   "execution_count": 67,
   "metadata": {
    "collapsed": false,
    "jupyter": {
     "outputs_hidden": false,
     "source_hidden": false
    },
    "nteract": {
     "transient": {
      "deleting": false
     }
    }
   },
   "outputs": [],
   "source": [
    "def lgb_optimizer(params):\n",
    "    '''A function to optimize  lgb classifier\n",
    "    :params:=params , dictionary containing the Hyper-parameters for the classifier\n",
    "    returns true loss and validation loss\n",
    "    '''\n",
    "    if 'num_leaves' in params:\n",
    "        params['num_leaves']=int(params['num_leaves'])\n",
    "    if 'max_depth' in params:\n",
    "        params['max_depth']=int(params['max_depth'])\n",
    "    val_score=[]\n",
    "    true_scores=[]\n",
    "    rd=1\n",
    "    for train_index, test_index in skf.split(X_train, y_train):\n",
    "        X_tr, X_val = X_train.iloc[train_index], X_train.iloc[test_index]\n",
    "        y_tr, y_val = y_train.iloc[train_index], y_train.iloc[test_index]\n",
    "        clf = lgb.LGBMClassifier(n_estimators=2000,**params)\n",
    "        clf.fit(X_tr,y_tr,eval_set=(X_val,y_val),early_stopping_rounds =200,eval_metric='logloss',verbose=False)\n",
    "        y_pred = clf.predict(X_val)\n",
    "        y_tr_pred=clf.predict(X_tr)\n",
    "        score=balanced_accuracy_score(y_val,y_pred,)\n",
    "        true_score=balanced_accuracy_score(y_tr,y_tr_pred)\n",
    "        val_score.append(score)\n",
    "        true_scores.append(true_score)\n",
    "        rd+=1\n",
    "    mean,std =np.mean(val_score),np.std(val_score)\n",
    "    true_mean=np.mean(true_scores)\n",
    "    print(\"mean: {}, Std: {}\".format(mean,std))\n",
    "    return {'loss':-mean,'status': STATUS_OK,'true_loss':-true_mean}"
   ]
  },
  {
   "cell_type": "code",
   "execution_count": 68,
   "metadata": {
    "collapsed": false,
    "jupyter": {
     "outputs_hidden": false,
     "source_hidden": false
    },
    "nteract": {
     "transient": {
      "deleting": false
     }
    }
   },
   "outputs": [
    {
     "name": "stdout",
     "output_type": "stream",
     "text": [
      "mean: 0.7832786055538408, Std: 0.006635218982768331   \n",
      "mean: 0.7787116894088125, Std: 0.013328259968698191                              \n",
      "mean: 0.7634860466656586, Std: 0.022002299597657333                              \n",
      "mean: 0.7630888474549584, Std: 0.008497767115482054                              \n",
      "mean: 0.7605896753698749, Std: 0.009884572553159963                              \n",
      "mean: 0.7691326263460647, Std: 0.014661217636079669                              \n",
      "mean: 0.7441970412507827, Std: 0.010129264790380947                              \n",
      "mean: 0.7758283148151157, Std: 0.01377501930741764                               \n",
      "mean: 0.7520439001103469, Std: 0.01705256367908015                               \n",
      "mean: 0.7563748948704266, Std: 0.006531380421865752                              \n",
      "mean: 0.7552266924767841, Std: 0.018151481722594363                               \n",
      "mean: 0.7714630912405978, Std: 0.015719497000234107                               \n",
      "mean: 0.784030764693459, Std: 0.014201187344790237                                \n",
      "mean: 0.7655902002366901, Std: 0.013475744362124047                               \n",
      "mean: 0.7568056543152176, Std: 0.015441648574462933                              \n",
      "mean: 0.778137141450357, Std: 0.013075764660340359                               \n",
      "mean: 0.7595525010528579, Std: 0.007123377910989417                              \n",
      "mean: 0.782480320618643, Std: 0.00693378436276712                                \n",
      "mean: 0.7726513397225455, Std: 0.010208884661686601                              \n",
      "mean: 0.7685557164869415, Std: 0.017821135098518397                              \n",
      "100%|██████████| 20/20 [01:30<00:00,  4.51s/trial, best loss: -0.784030764693459]\n"
     ]
    }
   ],
   "source": [
    "X_train,X_test,y_train,y_test = train_test_split(df_encoded,label,test_size=0.2,random_state=42)\n",
    "trials_encoded = Trials()\n",
    "best_e= fmin(lgb_optimizer,lgb_space, algo=tpe.suggest, max_evals=20, trials=trials_encoded)"
   ]
  },
  {
   "cell_type": "code",
   "execution_count": 89,
   "metadata": {
    "collapsed": false,
    "jupyter": {
     "outputs_hidden": false,
     "source_hidden": false
    },
    "nteract": {
     "transient": {
      "deleting": false
     }
    }
   },
   "outputs": [
    {
     "name": "stdout",
     "output_type": "stream",
     "text": [
      "mean: 0.761790226979904, Std: 0.01080934937138968     \n",
      "mean: 0.7551430012134419, Std: 0.005269347438222103                             \n",
      "mean: 0.7613237141075453, Std: 0.016933387747844773                             \n",
      "mean: 0.7716987501921387, Std: 0.015190139757868247                             \n",
      "mean: 0.7802517861092748, Std: 0.010952287087257881                              \n",
      "mean: 0.765663662845553, Std: 0.01921954605955464                                \n",
      "mean: 0.7761617552046168, Std: 0.018955709752482938                              \n",
      "mean: 0.776466846537691, Std: 0.01093042222651275                                \n",
      "mean: 0.7630025568511989, Std: 0.009377739699927183                              \n",
      "mean: 0.7709794952030922, Std: 0.010095783477428073                              \n",
      "mean: 0.7606930741324389, Std: 0.01300533800165982                                \n",
      "mean: 0.754274877749771, Std: 0.008671925518756562                                \n",
      "mean: 0.7670719992301953, Std: 0.007224161572954208                               \n",
      "mean: 0.7706628755453304, Std: 0.00889812724482318                                \n",
      "mean: 0.767831300307547, Std: 0.013615364993860183                                \n",
      "mean: 0.7688009730031006, Std: 0.02063389805343693                                \n",
      "mean: 0.7626422670247426, Std: 0.010463906739566032                               \n",
      "mean: 0.7791708229036882, Std: 0.005467018877306093                               \n",
      "mean: 0.7689981479699526, Std: 0.011474367268501895                               \n",
      "mean: 0.7745162102616462, Std: 0.008581312078869948                               \n",
      "100%|██████████| 20/20 [01:24<00:00,  4.22s/trial, best loss: -0.7802517861092748]\n"
     ]
    }
   ],
   "source": [
    "X_train,X_test,y_train,y_test = train_test_split(df_scaled,label,test_size=0.2,random_state=42)\n",
    "trials_scaled = Trials()\n",
    "best_scaled = fmin(lgb_optimizer, lgb_space, algo=tpe.suggest, max_evals=20, trials=trials_scaled)"
   ]
  },
  {
   "cell_type": "code",
   "execution_count": 90,
   "metadata": {
    "collapsed": false,
    "jupyter": {
     "outputs_hidden": false,
     "source_hidden": false
    },
    "nteract": {
     "transient": {
      "deleting": false
     }
    }
   },
   "outputs": [
    {
     "name": "stdout",
     "output_type": "stream",
     "text": [
      "mean: 0.7734321353456559, Std: 0.021334986727729495   \n",
      "mean: 0.7560832876157675, Std: 0.0193905679415751                                \n",
      "mean: 0.7544111806629068, Std: 0.011777526707365643                              \n",
      "mean: 0.7668657515655403, Std: 0.01632200218271801                               \n",
      "mean: 0.778170964117855, Std: 0.01434461339281364                                \n",
      "mean: 0.7710535889018162, Std: 0.005633494279162656                              \n",
      "mean: 0.7708876497588737, Std: 0.016003167303926265                             \n",
      "mean: 0.7658838944617803, Std: 0.01014905391762528                              \n",
      "mean: 0.7757714105045845, Std: 0.016995571051832296                             \n",
      "mean: 0.7697577114807118, Std: 0.0210280458917572                               \n",
      "mean: 0.7566495376798137, Std: 0.006334519429524895                              \n",
      "mean: 0.7591547894721714, Std: 0.015354448970470313                              \n",
      "mean: 0.7529178408478849, Std: 0.013355508352115958                              \n",
      "mean: 0.7760612432095356, Std: 0.010194696036073475                              \n",
      "mean: 0.7744658292958162, Std: 0.020710546013578097                              \n",
      "mean: 0.7708577136051727, Std: 0.01090992520931041                               \n",
      "mean: 0.767244018080412, Std: 0.015607908575934751                               \n",
      "mean: 0.7798598918024551, Std: 0.016188248718256252                              \n",
      "mean: 0.7812664286437316, Std: 0.007072350645034662                               \n",
      "mean: 0.7547425465788058, Std: 0.014623033649742451                               \n",
      "100%|██████████| 20/20 [01:13<00:00,  3.66s/trial, best loss: -0.7812664286437316]\n"
     ]
    }
   ],
   "source": [
    "X_train,X_test,y_train,y_test = train_test_split(df_transformed,label,test_size=0.2,random_state=42)\n",
    "trials_transformed = Trials()\n",
    "best_transformed = fmin(lgb_optimizer, lgb_space, algo=tpe.suggest, max_evals=20, trials=trials_transformed)"
   ]
  },
  {
   "cell_type": "code",
   "execution_count": 91,
   "metadata": {
    "collapsed": false,
    "jupyter": {
     "outputs_hidden": false,
     "source_hidden": false
    },
    "nteract": {
     "transient": {
      "deleting": false
     }
    }
   },
   "outputs": [],
   "source": [
    "def model_trainer(Data,label,params,classifier='lgb',test_size=0.2):\n",
    "    '''A function to train a model. \n",
    "    parameters:\n",
    "    Data :=pandas dataset or numpy array of features\n",
    "    label:=pandas dataset or numpy array of labels for features \n",
    "    params:=python dict parametes for the model\n",
    "    model:=keras model object or sklearn classifier object\n",
    "    test_size:=Float (0,1) fraction for test split\n",
    "    return\n",
    "    model:=str 'keras','lgb'\n",
    "    train_score:=float balanced accuracy train score\n",
    "    test_score:=float balanced accuracy test score\n",
    "    returns-trained model,train_score,test_score\n",
    "    '''\n",
    "    X_train,X_test,y_train,y_test = train_test_split(Data,label,test_size=test_size,random_state=42)\n",
    "    if classifier=='lgb':\n",
    "        if 'num_leaves' in params:\n",
    "            params['num_leaves']=int(params['num_leaves'])\n",
    "        if 'max_depth' in params:\n",
    "            #max_depth=[-1,9,12]#max_depth choice list\n",
    "            params['max_depth']=-1#int(params['max_depth'])#best returns an index corresponding the choice\n",
    "        clf = lgb.LGBMClassifier(n_estimators=5000,**params)\n",
    "        clf.fit(X_train,y_train,eval_set=(X_test,y_test),early_stopping_rounds =200,eval_metric='auc',verbose=False)\n",
    "        train_pred=clf.predict(X_train)\n",
    "        test_pred=clf.predict(X_test)\n",
    "    elif classifier=='keras':\n",
    "        opt=['adam','sgd']\n",
    "        if 'optimizer' in params:\n",
    "            params['optimizer'] =opt[params['optimizer']]\n",
    "        clf = model(feature_size=X_train.shape[-1],**params)\n",
    "        clf.fit(X_train,y_train,epochs=20,batch_size=128,verbose=0)\n",
    "        train_pred=np.round(clf.predict(X_train))\n",
    "        test_pred=np.round(clf.predict(X_test))\n",
    "    train_score = balanced_accuracy_score(train_pred,y_train)\n",
    "    test_score= balanced_accuracy_score(test_pred,y_test)\n",
    "    return clf,train_score,test_score"
   ]
  },
  {
   "cell_type": "code",
   "execution_count": 92,
   "metadata": {
    "collapsed": false,
    "jupyter": {
     "outputs_hidden": false,
     "source_hidden": false
    },
    "nteract": {
     "transient": {
      "deleting": false
     }
    }
   },
   "outputs": [],
   "source": [
    "clf_encoded,lgb_train_encoded,lgb_test_encoded=model_trainer(df_encoded,label,best_e)\n",
    "clf_scaled,lgb_train_scaled,lgb_test_scaled=model_trainer(df_scaled,label,best_scaled)\n",
    "clf_transformed,lgb_train_transformed,lgb_test_transformed=model_trainer(df_transformed,label,best_transformed)"
   ]
  },
  {
   "cell_type": "code",
   "execution_count": 93,
   "metadata": {
    "collapsed": false,
    "jupyter": {
     "outputs_hidden": false,
     "source_hidden": false
    },
    "nteract": {
     "transient": {
      "deleting": false
     }
    }
   },
   "outputs": [
    {
     "name": "stdout",
     "output_type": "stream",
     "text": [
      "{'colsample_bytree': 0.494182777812715, 'lr': 0.025354245824180614, 'max_depth': -1, 'num_leaves': 20}\n",
      "{'colsample_bytree': 0.9580472004485319, 'lr': 0.0038100829735529204, 'max_depth': -1, 'num_leaves': 129}\n",
      "{'colsample_bytree': 0.9440445139038744, 'lr': 0.004438421545291667, 'max_depth': -1, 'num_leaves': 24}\n"
     ]
    }
   ],
   "source": [
    "print(best_e)\n",
    "print(best_scaled)\n",
    "print(best_transformed)"
   ]
  },
  {
   "cell_type": "code",
   "execution_count": 94,
   "metadata": {
    "collapsed": false,
    "jupyter": {
     "outputs_hidden": false,
     "source_hidden": false
    },
    "nteract": {
     "transient": {
      "deleting": false
     }
    }
   },
   "outputs": [
    {
     "name": "stdout",
     "output_type": "stream",
     "text": [
      "| Dataset Type | Train Score | Test Score |\n",
      "| Encoded      | 0.891863       | 0.811791     |\n",
      "| Scaled       | 0.945524       | 0.819081     |\n",
      "| Transformed  | 0.945524       | 0.819081     |\n"
     ]
    }
   ],
   "source": [
    "print(\"| Dataset Type | Train Score | Test Score |\")\n",
    "print(\"| Encoded      | {:2f}       | {:2f}     |\".format(lgb_train_encoded,lgb_test_encoded))\n",
    "print(\"| Scaled       | {:2f}       | {:2f}     |\".format(lgb_train_scaled,lgb_test_scaled))\n",
    "print(\"| Transformed  | {:2f}       | {:2f}     |\".format(lgb_train_scaled,lgb_test_scaled))"
   ]
  },
  {
   "cell_type": "code",
   "execution_count": 95,
   "metadata": {
    "collapsed": false,
    "jupyter": {
     "outputs_hidden": false,
     "source_hidden": false
    },
    "nteract": {
     "transient": {
      "deleting": false
     }
    }
   },
   "outputs": [
    {
     "name": "stdout",
     "output_type": "stream",
     "text": [
      "Requirement already satisfied: keras in /anaconda/envs/azureml_py36/lib/python3.6/site-packages (2.3.1)\r\n",
      "Requirement already satisfied: h5py in /anaconda/envs/azureml_py36/lib/python3.6/site-packages (from keras) (2.9.0)\r\n",
      "Requirement already satisfied: keras-preprocessing>=1.0.5 in /anaconda/envs/azureml_py36/lib/python3.6/site-packages (from keras) (1.1.0)\r\n",
      "Requirement already satisfied: numpy>=1.9.1 in /anaconda/envs/azureml_py36/lib/python3.6/site-packages (from keras) (1.16.2)\r\n",
      "Requirement already satisfied: scipy>=0.14 in /anaconda/envs/azureml_py36/lib/python3.6/site-packages (from keras) (1.4.1)\r\n",
      "Requirement already satisfied: six>=1.9.0 in /anaconda/envs/azureml_py36/lib/python3.6/site-packages (from keras) (1.13.0)\r\n",
      "Requirement already satisfied: pyyaml in /anaconda/envs/azureml_py36/lib/python3.6/site-packages (from keras) (5.1.2)\r\n",
      "Requirement already satisfied: keras-applications>=1.0.6 in /anaconda/envs/azureml_py36/lib/python3.6/site-packages (from keras) (1.0.8)\r\n"
     ]
    }
   ],
   "source": [
    "!pip install keras"
   ]
  },
  {
   "cell_type": "code",
   "execution_count": 96,
   "metadata": {
    "collapsed": false,
    "jupyter": {
     "outputs_hidden": false,
     "source_hidden": false
    },
    "nteract": {
     "transient": {
      "deleting": false
     }
    }
   },
   "outputs": [],
   "source": [
    "from keras.models import Sequential\n",
    "from keras.layers import Dense, Dropout\n",
    "from keras.optimizers import Adam, SGD\n",
    "from keras.callbacks import EarlyStopping"
   ]
  },
  {
   "cell_type": "code",
   "execution_count": 97,
   "metadata": {
    "collapsed": false,
    "jupyter": {
     "outputs_hidden": false,
     "source_hidden": false
    },
    "nteract": {
     "transient": {
      "deleting": false
     }
    }
   },
   "outputs": [],
   "source": [
    "skf = StratifiedKFold(n_splits=5, random_state=None, shuffle=True)"
   ]
  },
  {
   "cell_type": "code",
   "execution_count": 98,
   "metadata": {
    "collapsed": false,
    "jupyter": {
     "outputs_hidden": false,
     "source_hidden": false
    },
    "nteract": {
     "transient": {
      "deleting": false
     }
    }
   },
   "outputs": [],
   "source": [
    "def model(feature_size,lr=0.1,optimizer='adam',hl_size=128):\n",
    "    ''' function to define keras model\n",
    "    :feature:=\n",
    "    '''\n",
    "    if optimizer=='adam':\n",
    "        opt =Adam(lr=lr)\n",
    "    elif optimizer=='sgd':\n",
    "        opt = SGD(lr=lr)\n",
    "    hl_size=int(hl_size)\n",
    "    model =Sequential()\n",
    "    model.add(Dense(hl_size,activation='relu',input_shape=(feature_size,)))\n",
    "    model.add(Dropout(0.25))\n",
    "    model.add(Dense(hl_size,activation='relu'))\n",
    "    model.add(Dense(1,activation='sigmoid'))\n",
    "    model.compile(optimizer=opt,loss='binary_crossentropy',metrics=['acc'])\n",
    "    return model"
   ]
  },
  {
   "cell_type": "code",
   "execution_count": 99,
   "metadata": {
    "collapsed": false,
    "jupyter": {
     "outputs_hidden": false,
     "source_hidden": false
    },
    "nteract": {
     "transient": {
      "deleting": false
     }
    }
   },
   "outputs": [],
   "source": [
    "def keras_optimizer(params):\n",
    "    val_score=[]\n",
    "    true_scores=[]\n",
    "    rd=1\n",
    "    for train_index, test_index in skf.split(X_train, y_train):\n",
    "        X_tr, X_val = X_train.iloc[train_index], X_train.iloc[test_index]\n",
    "        y_tr, y_val = y_train.iloc[train_index], y_train.iloc[test_index]\n",
    "        nn_model = model(X_train.shape[1],**params)\n",
    "        cb = EarlyStopping(monitor='val_acc',min_delta=0.001,patience=3)\n",
    "        nn_model.fit(X_tr,y_tr,validation_data=(X_val,y_val),batch_size=128,callbacks=[cb],epochs=50,verbose=0)\n",
    "        #_,score= nn_model.evaluate(X_val,y_val)\n",
    "        #_,true_score=nn_model.evaluate(X_tr,y_tr)\n",
    "        cv_pred = np.round(nn_model.predict(X_val))\n",
    "        score=balanced_accuracy_score(y_val,cv_pred)\n",
    "        y_tr_pred = np.round(nn_model.predict(X_tr))\n",
    "        true_score=balanced_accuracy_score(y_tr,y_tr_pred)\n",
    "        \n",
    "        val_score.append(score)\n",
    "        true_scores.append(true_score)\n",
    "        rd+=1\n",
    "    mean,std =np.mean(val_score),np.std(val_score)\n",
    "    true_mean=np.mean(true_scores)\n",
    "    print(\"mean: {}, Std: {}\".format(mean,std))\n",
    "    return {'loss':-mean,'status': STATUS_OK,'true_loss':-true_mean}"
   ]
  },
  {
   "cell_type": "code",
   "execution_count": 100,
   "metadata": {
    "collapsed": false,
    "jupyter": {
     "outputs_hidden": false,
     "source_hidden": false
    },
    "nteract": {
     "transient": {
      "deleting": false
     }
    }
   },
   "outputs": [],
   "source": [
    "keras_space = {'lr':hp.loguniform('lr',-10,-2.3),'optimizer':hp.choice('optimizer',['adam','sgd'])}\n"
   ]
  },
  {
   "cell_type": "code",
   "execution_count": 102,
   "metadata": {
    "collapsed": false,
    "jupyter": {
     "outputs_hidden": false,
     "source_hidden": false
    },
    "nteract": {
     "transient": {
      "deleting": false
     }
    }
   },
   "outputs": [
    {
     "name": "stdout",
     "output_type": "stream",
     "text": [
      "mean: 0.6759234906642438, Std: 0.04417803938928042    \n",
      "mean: 0.5009667046986828, Std: 0.0012898055262315531                             \n",
      "mean: 0.582733575105317, Std: 0.03498339174509645                                \n",
      "mean: 0.6832142656300964, Std: 0.08622077711161849                               \n",
      "mean: 0.6756577143549825, Std: 0.04991243680103733                               \n",
      "mean: 0.6962872233670707, Std: 0.055864763394358405                              \n",
      "mean: 0.6717543735777046, Std: 0.08527326697371458                               \n",
      "mean: 0.669518978309254, Std: 0.08448745227222183                                \n",
      "mean: 0.6739575957600759, Std: 0.05111015873336811                               \n",
      "mean: 0.636138098707453, Std: 0.043976358607329645                               \n",
      "100%|██████████| 10/10 [01:58<00:00, 11.87s/trial, best loss: -0.6962872233670707]\n"
     ]
    }
   ],
   "source": [
    "X_train,X_test,y_train,y_test = train_test_split(df_encoded,label,test_size=0.2,random_state=42)\n",
    "best_nn_encoded=fmin(keras_optimizer,keras_space,algo=tpe.suggest,max_evals=10)"
   ]
  },
  {
   "cell_type": "code",
   "execution_count": 103,
   "metadata": {
    "collapsed": false,
    "jupyter": {
     "outputs_hidden": false,
     "source_hidden": false
    },
    "nteract": {
     "transient": {
      "deleting": false
     }
    }
   },
   "outputs": [
    {
     "name": "stdout",
     "output_type": "stream",
     "text": [
      "mean: 0.5, Std: 0.0                                   \n",
      "mean: 0.5, Std: 0.0                                               \n",
      "mean: 0.5, Std: 0.0                                               \n",
      "mean: 0.5000641274776525, Std: 0.0015596933843605861              \n",
      "mean: 0.5, Std: 0.0                                                              \n",
      "mean: 0.7395557814704519, Std: 0.02445261520948237                               \n",
      "mean: 0.5, Std: 0.0                                                              \n",
      "mean: 0.5, Std: 0.0                                                              \n",
      "mean: 0.4998192771084337, Std: 0.00014755962305921855                            \n",
      "mean: 0.4999397590361446, Std: 0.000120481927710836                              \n",
      "100%|██████████| 10/10 [02:06<00:00, 12.69s/trial, best loss: -0.7395557814704519]\n"
     ]
    }
   ],
   "source": [
    "X_train,X_test,y_train,y_test = train_test_split(df_scaled,label,test_size=0.2,random_state=42)\n",
    "best_nn_scaled=fmin(keras_optimizer,keras_space,algo=tpe.suggest,max_evals=10)"
   ]
  },
  {
   "cell_type": "code",
   "execution_count": 104,
   "metadata": {
    "collapsed": false,
    "jupyter": {
     "outputs_hidden": false,
     "source_hidden": false
    },
    "nteract": {
     "transient": {
      "deleting": false
     }
    }
   },
   "outputs": [
    {
     "name": "stdout",
     "output_type": "stream",
     "text": [
      "mean: 0.5057837761168104, Std: 0.008774693441215706   \n",
      "mean: 0.7599124222228608, Std: 0.033478053193990824                              \n",
      "mean: 0.5011888795718086, Std: 0.002919778600141748                              \n",
      "mean: 0.6980656033531492, Std: 0.02334427711588847                               \n",
      "mean: 0.7883181142785018, Std: 0.008001332947030282                              \n",
      "mean: 0.5585259115499442, Std: 0.05849554716542823                               \n",
      "mean: 0.7559931354918689, Std: 0.021129406027587182                              \n",
      "mean: 0.5183938325649866, Std: 0.036592010359754436                              \n",
      "mean: 0.5127570503984613, Std: 0.02093598633808871                               \n",
      "mean: 0.7821674437611456, Std: 0.021559878845071843                              \n",
      "100%|██████████| 10/10 [03:10<00:00, 19.10s/trial, best loss: -0.7883181142785018]\n"
     ]
    }
   ],
   "source": [
    "X_train,X_test,y_train,y_test = train_test_split(df_transformed,label,test_size=0.2,random_state=42)\n",
    "best_nn_transformed=fmin(keras_optimizer,keras_space,algo=tpe.suggest,max_evals=10)"
   ]
  },
  {
   "cell_type": "code",
   "execution_count": 105,
   "metadata": {
    "collapsed": false,
    "jupyter": {
     "outputs_hidden": false,
     "source_hidden": false
    },
    "nteract": {
     "transient": {
      "deleting": false
     }
    }
   },
   "outputs": [
    {
     "name": "stdout",
     "output_type": "stream",
     "text": [
      "{'lr': 0.00024298446901382443, 'optimizer': 0}\n",
      "{'lr': 0.005019266489300136, 'optimizer': 0}\n",
      "{'lr': 0.00038795094688760204, 'optimizer': 0}\n"
     ]
    }
   ],
   "source": [
    "print(best_nn_encoded)\n",
    "print(best_nn_scaled)\n",
    "print(best_nn_transformed)"
   ]
  },
  {
   "cell_type": "code",
   "execution_count": 106,
   "metadata": {
    "collapsed": false,
    "jupyter": {
     "outputs_hidden": false,
     "source_hidden": false
    },
    "nteract": {
     "transient": {
      "deleting": false
     }
    }
   },
   "outputs": [],
   "source": [
    "_,nn_train_encoded,nn_test_encoded=model_trainer(df_encoded,label,best_nn_encoded,'keras')\n",
    "_,nn_train_scaled,nn_test_scaled=model_trainer(df_scaled,label,best_nn_scaled,'keras')\n",
    "_,nn_train_transformed,nn_test_transformed=model_trainer(df_transformed,label,best_nn_transformed,'keras')"
   ]
  },
  {
   "cell_type": "code",
   "execution_count": 107,
   "metadata": {
    "collapsed": false,
    "jupyter": {
     "outputs_hidden": false,
     "source_hidden": false
    },
    "nteract": {
     "transient": {
      "deleting": false
     }
    }
   },
   "outputs": [
    {
     "name": "stdout",
     "output_type": "stream",
     "text": [
      "|              |        neural network            |       Boosted Trees       |\n",
      "| Dataset Type | Train Score     | Test Score     |Train Score   | Test Score |\n",
      "| Encoded      | 0.7531          | 0.7172         | 0.8919       | 0.8118     |\n",
      "| Scaled       | 0.8956          | 0.7804         | 0.9455       | 0.8191     |\n",
      "| Transformed  | 0.8956          | 0.7804         | 0.9455       | 0.8191     |\n"
     ]
    }
   ],
   "source": [
    "print(\"|              |        neural network            |       Boosted Trees       |\")\n",
    "print(\"| Dataset Type | Train Score     | Test Score     |Train Score   | Test Score |\")\n",
    "print(\"| Encoded      | {:.4f}          | {:.4f}         | {:.4f}       | {:.4f}     |\".format(nn_train_encoded,nn_test_encoded,lgb_train_encoded,lgb_test_encoded))\n",
    "print(\"| Scaled       | {:.4f}          | {:.4f}         | {:.4f}       | {:.4f}     |\".format(nn_train_scaled,nn_test_scaled,lgb_train_scaled,lgb_test_scaled))\n",
    "print(\"| Transformed  | {:.4f}          | {:.4f}         | {:.4f}       | {:.4f}     |\".format(nn_train_scaled,nn_test_scaled,lgb_train_scaled,lgb_test_scaled))"
   ]
  },
  {
   "cell_type": "code",
   "execution_count": 108,
   "metadata": {
    "collapsed": false,
    "jupyter": {
     "outputs_hidden": false,
     "source_hidden": false
    },
    "nteract": {
     "transient": {
      "deleting": false
     }
    }
   },
   "outputs": [
    {
     "data": {
      "text/plain": [
       "['lgb_best.pkl']"
      ]
     },
     "execution_count": 108,
     "metadata": {},
     "output_type": "execute_result"
    }
   ],
   "source": [
    "from sklearn.externals import joblib\n",
    "joblib.dump(clf_encoded, 'lgb_best.pkl')"
   ]
  },
  {
   "cell_type": "code",
   "execution_count": 109,
   "metadata": {
    "collapsed": false,
    "jupyter": {
     "outputs_hidden": false,
     "source_hidden": false
    },
    "nteract": {
     "transient": {
      "deleting": false
     }
    }
   },
   "outputs": [
    {
     "data": {
      "text/plain": [
       "<matplotlib.axes._subplots.AxesSubplot at 0x7fe85556aac8>"
      ]
     },
     "execution_count": 109,
     "metadata": {},
     "output_type": "execute_result"
    },
    {
     "data": {
      "image/png": "[encoded data removed]",
      "text/plain": [
       "<Figure size 432x288 with 1 Axes>"
      ]
     },
     "metadata": {
      "needs_background": "light"
     },
     "output_type": "display_data"
    }
   ],
   "source": [
    "%matplotlib inline\n",
    "lgb.plot_importance(clf_encoded,max_num_features=10)"
   ]
  },
  {
   "cell_type": "code",
   "execution_count": null,
   "metadata": {
    "collapsed": false,
    "jupyter": {
     "outputs_hidden": false,
     "source_hidden": false
    },
    "nteract": {
     "transient": {
      "deleting": false
     }
    }
   },
   "outputs": [],
   "source": []
  }
 ],
 "metadata": {
  "kernel_info": {
   "name": "python3"
  },
  "kernelspec": {
   "display_name": "Python 3",
   "language": "python",
   "name": "python3"
  },
  "language_info": {
   "codemirror_mode": {
    "name": "ipython",
    "version": 3
   },
   "file_extension": ".py",
   "mimetype": "text/x-python",
   "name": "python",
   "nbconvert_exporter": "python",
   "pygments_lexer": "ipython3",
   "version": "3.6.9"
  },
  "nteract": {
   "version": "nteract-front-end@1.0.0"
  }
 },
 "nbformat": 4,
 "nbformat_minor": 2
}
