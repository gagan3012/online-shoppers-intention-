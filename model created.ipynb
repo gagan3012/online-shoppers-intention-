{
    "cells": [
        {
            "cell_type": "markdown",
            "metadata": {
                "collapsed": true
            },
            "source": "# Feature engineering and ETL\nIn the initial data exploration it was established that the data is skewed , has some outliers and missing values for numerical columns. There are categorical features that need to be one hot encoded. Since multiple models will be used multiple saves will be created depending on the transformations. For eg, Tree based models do not require that data be scaled while it is a good idea to scale data for neural networks.\n\nIn total 3 different ETL pipelines are created. One with one hot encoded categorical columns, one with scaled columns and one with scaled and transformed. The Yeo jhonson transformation is used on numerical columns to handle skewness. this should work well with Neural Network."
        },
        {
            "cell_type": "code",
            "execution_count": 2,
            "metadata": {},
            "outputs": [],
            "source": "import pandas as pd\nfrom sklearn.preprocessing import MinMaxScaler, PowerTransformer"
        },
        {
            "cell_type": "code",
            "execution_count": 3,
            "metadata": {},
            "outputs": [
                {
                    "data": {
                        "text/html": "<div>\n<style scoped>\n    .dataframe tbody tr th:only-of-type {\n        vertical-align: middle;\n    }\n\n    .dataframe tbody tr th {\n        vertical-align: top;\n    }\n\n    .dataframe thead th {\n        text-align: right;\n    }\n</style>\n<table border=\"1\" class=\"dataframe\">\n  <thead>\n    <tr style=\"text-align: right;\">\n      <th></th>\n      <th>Administrative</th>\n      <th>Administrative_Duration</th>\n      <th>Informational</th>\n      <th>Informational_Duration</th>\n      <th>ProductRelated</th>\n      <th>ProductRelated_Duration</th>\n      <th>BounceRates</th>\n      <th>ExitRates</th>\n      <th>PageValues</th>\n      <th>SpecialDay</th>\n      <th>Month</th>\n      <th>OperatingSystems</th>\n      <th>Browser</th>\n      <th>Region</th>\n      <th>TrafficType</th>\n      <th>VisitorType</th>\n      <th>Weekend</th>\n      <th>Revenue</th>\n    </tr>\n  </thead>\n  <tbody>\n    <tr>\n      <th>0</th>\n      <td>0.0</td>\n      <td>0.0</td>\n      <td>0.0</td>\n      <td>0.0</td>\n      <td>1.0</td>\n      <td>0.000000</td>\n      <td>0.20</td>\n      <td>0.20</td>\n      <td>0.0</td>\n      <td>0.0</td>\n      <td>Feb</td>\n      <td>1</td>\n      <td>1</td>\n      <td>1</td>\n      <td>1</td>\n      <td>Returning_Visitor</td>\n      <td>False</td>\n      <td>False</td>\n    </tr>\n    <tr>\n      <th>1</th>\n      <td>0.0</td>\n      <td>0.0</td>\n      <td>0.0</td>\n      <td>0.0</td>\n      <td>2.0</td>\n      <td>64.000000</td>\n      <td>0.00</td>\n      <td>0.10</td>\n      <td>0.0</td>\n      <td>0.0</td>\n      <td>Feb</td>\n      <td>2</td>\n      <td>2</td>\n      <td>1</td>\n      <td>2</td>\n      <td>Returning_Visitor</td>\n      <td>False</td>\n      <td>False</td>\n    </tr>\n    <tr>\n      <th>2</th>\n      <td>0.0</td>\n      <td>-1.0</td>\n      <td>0.0</td>\n      <td>-1.0</td>\n      <td>1.0</td>\n      <td>-1.000000</td>\n      <td>0.20</td>\n      <td>0.20</td>\n      <td>0.0</td>\n      <td>0.0</td>\n      <td>Feb</td>\n      <td>4</td>\n      <td>1</td>\n      <td>9</td>\n      <td>3</td>\n      <td>Returning_Visitor</td>\n      <td>False</td>\n      <td>False</td>\n    </tr>\n    <tr>\n      <th>3</th>\n      <td>0.0</td>\n      <td>0.0</td>\n      <td>0.0</td>\n      <td>0.0</td>\n      <td>2.0</td>\n      <td>2.666667</td>\n      <td>0.05</td>\n      <td>0.14</td>\n      <td>0.0</td>\n      <td>0.0</td>\n      <td>Feb</td>\n      <td>3</td>\n      <td>2</td>\n      <td>2</td>\n      <td>4</td>\n      <td>Returning_Visitor</td>\n      <td>False</td>\n      <td>False</td>\n    </tr>\n    <tr>\n      <th>4</th>\n      <td>0.0</td>\n      <td>0.0</td>\n      <td>0.0</td>\n      <td>0.0</td>\n      <td>10.0</td>\n      <td>627.500000</td>\n      <td>0.02</td>\n      <td>0.05</td>\n      <td>0.0</td>\n      <td>0.0</td>\n      <td>Feb</td>\n      <td>3</td>\n      <td>3</td>\n      <td>1</td>\n      <td>4</td>\n      <td>Returning_Visitor</td>\n      <td>True</td>\n      <td>False</td>\n    </tr>\n  </tbody>\n</table>\n</div>",
                        "text/plain": "   Administrative  Administrative_Duration  Informational  \\\n0             0.0                      0.0            0.0   \n1             0.0                      0.0            0.0   \n2             0.0                     -1.0            0.0   \n3             0.0                      0.0            0.0   \n4             0.0                      0.0            0.0   \n\n   Informational_Duration  ProductRelated  ProductRelated_Duration  \\\n0                     0.0             1.0                 0.000000   \n1                     0.0             2.0                64.000000   \n2                    -1.0             1.0                -1.000000   \n3                     0.0             2.0                 2.666667   \n4                     0.0            10.0               627.500000   \n\n   BounceRates  ExitRates  PageValues  SpecialDay Month  OperatingSystems  \\\n0         0.20       0.20         0.0         0.0   Feb                 1   \n1         0.00       0.10         0.0         0.0   Feb                 2   \n2         0.20       0.20         0.0         0.0   Feb                 4   \n3         0.05       0.14         0.0         0.0   Feb                 3   \n4         0.02       0.05         0.0         0.0   Feb                 3   \n\n   Browser  Region  TrafficType        VisitorType  Weekend  Revenue  \n0        1       1            1  Returning_Visitor    False    False  \n1        2       1            2  Returning_Visitor    False    False  \n2        1       9            3  Returning_Visitor    False    False  \n3        2       2            4  Returning_Visitor    False    False  \n4        3       1            4  Returning_Visitor     True    False  "
                    },
                    "execution_count": 3,
                    "metadata": {},
                    "output_type": "execute_result"
                }
            ],
            "source": "df=pd.read_csv(\"https://raw.githubusercontent.com/gagan3012/online-shoppers-intention-/master/online_shoppers_intention.csv\")\ndf.head()"
        },
        {
            "cell_type": "code",
            "execution_count": 4,
            "metadata": {},
            "outputs": [],
            "source": "df['Administrative']=df['Administrative'].clip(lower=0,upper=20)\ndf['PageValues']=df['PageValues'].clip(lower=0,upper=250)\ndf['Administrative_Duration']=df['Administrative_Duration'].clip(lower=0,upper=1500)\ndf['Informational']=df['Informational'].clip(lower=0,upper=10)\ndf['ProductRelated_Duration']=df['ProductRelated_Duration'].clip(lower=0,upper=20000)\ndf['ProductRelated']=df['ProductRelated'].clip(lower=0,upper=400)\ndf['Informational_Duration']=df['Informational_Duration'].clip(lower=0,upper=1500)"
        },
        {
            "cell_type": "code",
            "execution_count": 5,
            "metadata": {},
            "outputs": [],
            "source": "cat_dtype = pd.api.types.CategoricalDtype(categories=['Feb', 'Mar', 'May', 'June', 'Jul', 'Aug', 'Sep', 'Oct', 'Nov','Dec'],\n                                          ordered=True)#ordered dtype for month\ndf['Month']=df['Month'].astype(cat_dtype)\n"
        },
        {
            "cell_type": "code",
            "execution_count": 6,
            "metadata": {},
            "outputs": [
                {
                    "data": {
                        "text/plain": "(12330, 18)"
                    },
                    "execution_count": 6,
                    "metadata": {},
                    "output_type": "execute_result"
                }
            ],
            "source": "df.shape"
        },
        {
            "cell_type": "code",
            "execution_count": 7,
            "metadata": {},
            "outputs": [
                {
                    "data": {
                        "text/html": "<div>\n<style scoped>\n    .dataframe tbody tr th:only-of-type {\n        vertical-align: middle;\n    }\n\n    .dataframe tbody tr th {\n        vertical-align: top;\n    }\n\n    .dataframe thead th {\n        text-align: right;\n    }\n</style>\n<table border=\"1\" class=\"dataframe\">\n  <thead>\n    <tr style=\"text-align: right;\">\n      <th></th>\n      <th>Administrative</th>\n      <th>Administrative_Duration</th>\n      <th>Informational</th>\n      <th>Informational_Duration</th>\n      <th>ProductRelated</th>\n      <th>ProductRelated_Duration</th>\n      <th>BounceRates</th>\n      <th>ExitRates</th>\n      <th>PageValues</th>\n      <th>SpecialDay</th>\n      <th>OperatingSystems</th>\n      <th>Browser</th>\n      <th>Region</th>\n      <th>TrafficType</th>\n    </tr>\n  </thead>\n  <tbody>\n    <tr>\n      <th>count</th>\n      <td>12316.000000</td>\n      <td>12316.000000</td>\n      <td>12316.000000</td>\n      <td>12316.000000</td>\n      <td>12316.000000</td>\n      <td>12316.000000</td>\n      <td>12316.000000</td>\n      <td>12316.000000</td>\n      <td>12330.000000</td>\n      <td>12330.000000</td>\n      <td>12330.000000</td>\n      <td>12330.000000</td>\n      <td>12330.000000</td>\n      <td>12330.000000</td>\n    </tr>\n    <tr>\n      <th>mean</th>\n      <td>2.313901</td>\n      <td>79.909572</td>\n      <td>0.500568</td>\n      <td>33.929274</td>\n      <td>31.630318</td>\n      <td>1187.694533</td>\n      <td>0.022152</td>\n      <td>0.043003</td>\n      <td>5.863980</td>\n      <td>0.061427</td>\n      <td>2.124006</td>\n      <td>2.357097</td>\n      <td>3.147364</td>\n      <td>4.069586</td>\n    </tr>\n    <tr>\n      <th>std</th>\n      <td>3.299558</td>\n      <td>165.983561</td>\n      <td>1.235324</td>\n      <td>133.387972</td>\n      <td>43.102423</td>\n      <td>1769.998361</td>\n      <td>0.048427</td>\n      <td>0.048527</td>\n      <td>18.173049</td>\n      <td>0.198917</td>\n      <td>0.911325</td>\n      <td>1.717277</td>\n      <td>2.401591</td>\n      <td>4.025169</td>\n    </tr>\n    <tr>\n      <th>min</th>\n      <td>0.000000</td>\n      <td>0.000000</td>\n      <td>0.000000</td>\n      <td>0.000000</td>\n      <td>0.000000</td>\n      <td>0.000000</td>\n      <td>0.000000</td>\n      <td>0.000000</td>\n      <td>0.000000</td>\n      <td>0.000000</td>\n      <td>1.000000</td>\n      <td>1.000000</td>\n      <td>1.000000</td>\n      <td>1.000000</td>\n    </tr>\n    <tr>\n      <th>25%</th>\n      <td>0.000000</td>\n      <td>0.000000</td>\n      <td>0.000000</td>\n      <td>0.000000</td>\n      <td>7.000000</td>\n      <td>185.000000</td>\n      <td>0.000000</td>\n      <td>0.014286</td>\n      <td>0.000000</td>\n      <td>0.000000</td>\n      <td>2.000000</td>\n      <td>2.000000</td>\n      <td>1.000000</td>\n      <td>2.000000</td>\n    </tr>\n    <tr>\n      <th>50%</th>\n      <td>1.000000</td>\n      <td>8.000000</td>\n      <td>0.000000</td>\n      <td>0.000000</td>\n      <td>18.000000</td>\n      <td>599.766190</td>\n      <td>0.003119</td>\n      <td>0.025124</td>\n      <td>0.000000</td>\n      <td>0.000000</td>\n      <td>2.000000</td>\n      <td>2.000000</td>\n      <td>3.000000</td>\n      <td>2.000000</td>\n    </tr>\n    <tr>\n      <th>75%</th>\n      <td>4.000000</td>\n      <td>93.500000</td>\n      <td>0.000000</td>\n      <td>0.000000</td>\n      <td>38.000000</td>\n      <td>1466.479902</td>\n      <td>0.016684</td>\n      <td>0.050000</td>\n      <td>0.000000</td>\n      <td>0.000000</td>\n      <td>3.000000</td>\n      <td>2.000000</td>\n      <td>4.000000</td>\n      <td>4.000000</td>\n    </tr>\n    <tr>\n      <th>max</th>\n      <td>20.000000</td>\n      <td>1500.000000</td>\n      <td>10.000000</td>\n      <td>1500.000000</td>\n      <td>400.000000</td>\n      <td>20000.000000</td>\n      <td>0.200000</td>\n      <td>0.200000</td>\n      <td>250.000000</td>\n      <td>1.000000</td>\n      <td>8.000000</td>\n      <td>13.000000</td>\n      <td>9.000000</td>\n      <td>20.000000</td>\n    </tr>\n  </tbody>\n</table>\n</div>",
                        "text/plain": "       Administrative  Administrative_Duration  Informational  \\\ncount    12316.000000             12316.000000   12316.000000   \nmean         2.313901                79.909572       0.500568   \nstd          3.299558               165.983561       1.235324   \nmin          0.000000                 0.000000       0.000000   \n25%          0.000000                 0.000000       0.000000   \n50%          1.000000                 8.000000       0.000000   \n75%          4.000000                93.500000       0.000000   \nmax         20.000000              1500.000000      10.000000   \n\n       Informational_Duration  ProductRelated  ProductRelated_Duration  \\\ncount            12316.000000    12316.000000             12316.000000   \nmean                33.929274       31.630318              1187.694533   \nstd                133.387972       43.102423              1769.998361   \nmin                  0.000000        0.000000                 0.000000   \n25%                  0.000000        7.000000               185.000000   \n50%                  0.000000       18.000000               599.766190   \n75%                  0.000000       38.000000              1466.479902   \nmax               1500.000000      400.000000             20000.000000   \n\n        BounceRates     ExitRates    PageValues    SpecialDay  \\\ncount  12316.000000  12316.000000  12330.000000  12330.000000   \nmean       0.022152      0.043003      5.863980      0.061427   \nstd        0.048427      0.048527     18.173049      0.198917   \nmin        0.000000      0.000000      0.000000      0.000000   \n25%        0.000000      0.014286      0.000000      0.000000   \n50%        0.003119      0.025124      0.000000      0.000000   \n75%        0.016684      0.050000      0.000000      0.000000   \nmax        0.200000      0.200000    250.000000      1.000000   \n\n       OperatingSystems       Browser        Region   TrafficType  \ncount      12330.000000  12330.000000  12330.000000  12330.000000  \nmean           2.124006      2.357097      3.147364      4.069586  \nstd            0.911325      1.717277      2.401591      4.025169  \nmin            1.000000      1.000000      1.000000      1.000000  \n25%            2.000000      2.000000      1.000000      2.000000  \n50%            2.000000      2.000000      3.000000      2.000000  \n75%            3.000000      2.000000      4.000000      4.000000  \nmax            8.000000     13.000000      9.000000     20.000000  "
                    },
                    "execution_count": 7,
                    "metadata": {},
                    "output_type": "execute_result"
                }
            ],
            "source": "df.describe()"
        },
        {
            "cell_type": "code",
            "execution_count": 8,
            "metadata": {},
            "outputs": [
                {
                    "data": {
                        "text/plain": "Administrative              float64\nAdministrative_Duration     float64\nInformational               float64\nInformational_Duration      float64\nProductRelated              float64\nProductRelated_Duration     float64\nBounceRates                 float64\nExitRates                   float64\nPageValues                  float64\nSpecialDay                  float64\nMonth                      category\nOperatingSystems              int64\nBrowser                       int64\nRegion                        int64\nTrafficType                   int64\nVisitorType                  object\nWeekend                        bool\nRevenue                        bool\ndtype: object"
                    },
                    "execution_count": 8,
                    "metadata": {},
                    "output_type": "execute_result"
                }
            ],
            "source": "df.dtypes"
        },
        {
            "cell_type": "code",
            "execution_count": 9,
            "metadata": {},
            "outputs": [],
            "source": "cat_cols=['Weekend','VisitorType','Region','Browser','OperatingSystems','TrafficType']\ndf[cat_cols]=df[cat_cols].astype('category')\ndf =df.dropna()"
        },
        {
            "cell_type": "code",
            "execution_count": 10,
            "metadata": {},
            "outputs": [],
            "source": "df_encoded=pd.get_dummies(df,columns=cat_cols+['Month'],prefix=cat_cols+['Month'])"
        },
        {
            "cell_type": "code",
            "execution_count": 11,
            "metadata": {},
            "outputs": [],
            "source": "numeric_cols = df.select_dtypes(include='float64').columns"
        },
        {
            "cell_type": "code",
            "execution_count": 12,
            "metadata": {},
            "outputs": [],
            "source": "scaler = MinMaxScaler()\npt=PowerTransformer()\ndf_transformed = df_encoded.copy()\ndf_scaled = df_encoded.copy()\ndf_scaled[numeric_cols]= scaler.fit_transform(df_encoded[numeric_cols])\ndf_transformed[numeric_cols]= pt.fit_transform(df_encoded[numeric_cols])"
        },
        {
            "cell_type": "code",
            "execution_count": 13,
            "metadata": {},
            "outputs": [
                {
                    "data": {
                        "text/html": "<div>\n<style scoped>\n    .dataframe tbody tr th:only-of-type {\n        vertical-align: middle;\n    }\n\n    .dataframe tbody tr th {\n        vertical-align: top;\n    }\n\n    .dataframe thead th {\n        text-align: right;\n    }\n</style>\n<table border=\"1\" class=\"dataframe\">\n  <thead>\n    <tr style=\"text-align: right;\">\n      <th></th>\n      <th>Administrative</th>\n      <th>Administrative_Duration</th>\n      <th>Informational</th>\n      <th>Informational_Duration</th>\n      <th>ProductRelated</th>\n      <th>ProductRelated_Duration</th>\n      <th>BounceRates</th>\n      <th>ExitRates</th>\n      <th>PageValues</th>\n      <th>SpecialDay</th>\n      <th>...</th>\n      <th>Month_Feb</th>\n      <th>Month_Mar</th>\n      <th>Month_May</th>\n      <th>Month_June</th>\n      <th>Month_Jul</th>\n      <th>Month_Aug</th>\n      <th>Month_Sep</th>\n      <th>Month_Oct</th>\n      <th>Month_Nov</th>\n      <th>Month_Dec</th>\n    </tr>\n  </thead>\n  <tbody>\n    <tr>\n      <th>0</th>\n      <td>0.0</td>\n      <td>0.0</td>\n      <td>0.0</td>\n      <td>0.0</td>\n      <td>0.0025</td>\n      <td>0.000000</td>\n      <td>1.00</td>\n      <td>1.00</td>\n      <td>0.0</td>\n      <td>0.0</td>\n      <td>...</td>\n      <td>1</td>\n      <td>0</td>\n      <td>0</td>\n      <td>0</td>\n      <td>0</td>\n      <td>0</td>\n      <td>0</td>\n      <td>0</td>\n      <td>0</td>\n      <td>0</td>\n    </tr>\n    <tr>\n      <th>1</th>\n      <td>0.0</td>\n      <td>0.0</td>\n      <td>0.0</td>\n      <td>0.0</td>\n      <td>0.0050</td>\n      <td>0.003200</td>\n      <td>0.00</td>\n      <td>0.50</td>\n      <td>0.0</td>\n      <td>0.0</td>\n      <td>...</td>\n      <td>1</td>\n      <td>0</td>\n      <td>0</td>\n      <td>0</td>\n      <td>0</td>\n      <td>0</td>\n      <td>0</td>\n      <td>0</td>\n      <td>0</td>\n      <td>0</td>\n    </tr>\n    <tr>\n      <th>2</th>\n      <td>0.0</td>\n      <td>0.0</td>\n      <td>0.0</td>\n      <td>0.0</td>\n      <td>0.0025</td>\n      <td>0.000000</td>\n      <td>1.00</td>\n      <td>1.00</td>\n      <td>0.0</td>\n      <td>0.0</td>\n      <td>...</td>\n      <td>1</td>\n      <td>0</td>\n      <td>0</td>\n      <td>0</td>\n      <td>0</td>\n      <td>0</td>\n      <td>0</td>\n      <td>0</td>\n      <td>0</td>\n      <td>0</td>\n    </tr>\n    <tr>\n      <th>3</th>\n      <td>0.0</td>\n      <td>0.0</td>\n      <td>0.0</td>\n      <td>0.0</td>\n      <td>0.0050</td>\n      <td>0.000133</td>\n      <td>0.25</td>\n      <td>0.70</td>\n      <td>0.0</td>\n      <td>0.0</td>\n      <td>...</td>\n      <td>1</td>\n      <td>0</td>\n      <td>0</td>\n      <td>0</td>\n      <td>0</td>\n      <td>0</td>\n      <td>0</td>\n      <td>0</td>\n      <td>0</td>\n      <td>0</td>\n    </tr>\n    <tr>\n      <th>4</th>\n      <td>0.0</td>\n      <td>0.0</td>\n      <td>0.0</td>\n      <td>0.0</td>\n      <td>0.0250</td>\n      <td>0.031375</td>\n      <td>0.10</td>\n      <td>0.25</td>\n      <td>0.0</td>\n      <td>0.0</td>\n      <td>...</td>\n      <td>1</td>\n      <td>0</td>\n      <td>0</td>\n      <td>0</td>\n      <td>0</td>\n      <td>0</td>\n      <td>0</td>\n      <td>0</td>\n      <td>0</td>\n      <td>0</td>\n    </tr>\n  </tbody>\n</table>\n<p>5 rows \u00d7 76 columns</p>\n</div>",
                        "text/plain": "   Administrative  Administrative_Duration  Informational  \\\n0             0.0                      0.0            0.0   \n1             0.0                      0.0            0.0   \n2             0.0                      0.0            0.0   \n3             0.0                      0.0            0.0   \n4             0.0                      0.0            0.0   \n\n   Informational_Duration  ProductRelated  ProductRelated_Duration  \\\n0                     0.0          0.0025                 0.000000   \n1                     0.0          0.0050                 0.003200   \n2                     0.0          0.0025                 0.000000   \n3                     0.0          0.0050                 0.000133   \n4                     0.0          0.0250                 0.031375   \n\n   BounceRates  ExitRates  PageValues  SpecialDay  ...  Month_Feb  Month_Mar  \\\n0         1.00       1.00         0.0         0.0  ...          1          0   \n1         0.00       0.50         0.0         0.0  ...          1          0   \n2         1.00       1.00         0.0         0.0  ...          1          0   \n3         0.25       0.70         0.0         0.0  ...          1          0   \n4         0.10       0.25         0.0         0.0  ...          1          0   \n\n   Month_May  Month_June  Month_Jul  Month_Aug  Month_Sep  Month_Oct  \\\n0          0           0          0          0          0          0   \n1          0           0          0          0          0          0   \n2          0           0          0          0          0          0   \n3          0           0          0          0          0          0   \n4          0           0          0          0          0          0   \n\n   Month_Nov  Month_Dec  \n0          0          0  \n1          0          0  \n2          0          0  \n3          0          0  \n4          0          0  \n\n[5 rows x 76 columns]"
                    },
                    "execution_count": 13,
                    "metadata": {},
                    "output_type": "execute_result"
                }
            ],
            "source": "df_scaled.head()"
        },
        {
            "cell_type": "code",
            "execution_count": 14,
            "metadata": {},
            "outputs": [
                {
                    "data": {
                        "text/html": "<div>\n<style scoped>\n    .dataframe tbody tr th:only-of-type {\n        vertical-align: middle;\n    }\n\n    .dataframe tbody tr th {\n        vertical-align: top;\n    }\n\n    .dataframe thead th {\n        text-align: right;\n    }\n</style>\n<table border=\"1\" class=\"dataframe\">\n  <thead>\n    <tr style=\"text-align: right;\">\n      <th></th>\n      <th>Administrative</th>\n      <th>Administrative_Duration</th>\n      <th>Informational</th>\n      <th>Informational_Duration</th>\n      <th>ProductRelated</th>\n      <th>ProductRelated_Duration</th>\n      <th>BounceRates</th>\n      <th>ExitRates</th>\n      <th>PageValues</th>\n      <th>SpecialDay</th>\n      <th>...</th>\n      <th>Month_Feb</th>\n      <th>Month_Mar</th>\n      <th>Month_May</th>\n      <th>Month_June</th>\n      <th>Month_Jul</th>\n      <th>Month_Aug</th>\n      <th>Month_Sep</th>\n      <th>Month_Oct</th>\n      <th>Month_Nov</th>\n      <th>Month_Dec</th>\n    </tr>\n  </thead>\n  <tbody>\n    <tr>\n      <th>0</th>\n      <td>-0.991065</td>\n      <td>-0.997544</td>\n      <td>-0.52074</td>\n      <td>-0.491916</td>\n      <td>-1.923024</td>\n      <td>-2.094361</td>\n      <td>2.207184</td>\n      <td>1.983626</td>\n      <td>-0.529787</td>\n      <td>-0.336232</td>\n      <td>...</td>\n      <td>1</td>\n      <td>0</td>\n      <td>0</td>\n      <td>0</td>\n      <td>0</td>\n      <td>0</td>\n      <td>0</td>\n      <td>0</td>\n      <td>0</td>\n      <td>0</td>\n    </tr>\n    <tr>\n      <th>1</th>\n      <td>-0.991065</td>\n      <td>-0.997544</td>\n      <td>-0.52074</td>\n      <td>-0.491916</td>\n      <td>-1.576413</td>\n      <td>-1.078325</td>\n      <td>-0.799476</td>\n      <td>1.571869</td>\n      <td>-0.529787</td>\n      <td>-0.336232</td>\n      <td>...</td>\n      <td>1</td>\n      <td>0</td>\n      <td>0</td>\n      <td>0</td>\n      <td>0</td>\n      <td>0</td>\n      <td>0</td>\n      <td>0</td>\n      <td>0</td>\n      <td>0</td>\n    </tr>\n    <tr>\n      <th>2</th>\n      <td>-0.991065</td>\n      <td>-0.997544</td>\n      <td>-0.52074</td>\n      <td>-0.491916</td>\n      <td>-1.923024</td>\n      <td>-2.094361</td>\n      <td>2.207184</td>\n      <td>1.983626</td>\n      <td>-0.529787</td>\n      <td>-0.336232</td>\n      <td>...</td>\n      <td>1</td>\n      <td>0</td>\n      <td>0</td>\n      <td>0</td>\n      <td>0</td>\n      <td>0</td>\n      <td>0</td>\n      <td>0</td>\n      <td>0</td>\n      <td>0</td>\n    </tr>\n    <tr>\n      <th>3</th>\n      <td>-0.991065</td>\n      <td>-0.997544</td>\n      <td>-0.52074</td>\n      <td>-0.491916</td>\n      <td>-1.576413</td>\n      <td>-1.875374</td>\n      <td>1.711008</td>\n      <td>1.833617</td>\n      <td>-0.529787</td>\n      <td>-0.336232</td>\n      <td>...</td>\n      <td>1</td>\n      <td>0</td>\n      <td>0</td>\n      <td>0</td>\n      <td>0</td>\n      <td>0</td>\n      <td>0</td>\n      <td>0</td>\n      <td>0</td>\n      <td>0</td>\n    </tr>\n    <tr>\n      <th>4</th>\n      <td>-0.991065</td>\n      <td>-0.997544</td>\n      <td>-0.52074</td>\n      <td>-0.491916</td>\n      <td>-0.445603</td>\n      <td>0.054466</td>\n      <td>0.758331</td>\n      <td>0.724766</td>\n      <td>-0.529787</td>\n      <td>-0.336232</td>\n      <td>...</td>\n      <td>1</td>\n      <td>0</td>\n      <td>0</td>\n      <td>0</td>\n      <td>0</td>\n      <td>0</td>\n      <td>0</td>\n      <td>0</td>\n      <td>0</td>\n      <td>0</td>\n    </tr>\n  </tbody>\n</table>\n<p>5 rows \u00d7 76 columns</p>\n</div>",
                        "text/plain": "   Administrative  Administrative_Duration  Informational  \\\n0       -0.991065                -0.997544       -0.52074   \n1       -0.991065                -0.997544       -0.52074   \n2       -0.991065                -0.997544       -0.52074   \n3       -0.991065                -0.997544       -0.52074   \n4       -0.991065                -0.997544       -0.52074   \n\n   Informational_Duration  ProductRelated  ProductRelated_Duration  \\\n0               -0.491916       -1.923024                -2.094361   \n1               -0.491916       -1.576413                -1.078325   \n2               -0.491916       -1.923024                -2.094361   \n3               -0.491916       -1.576413                -1.875374   \n4               -0.491916       -0.445603                 0.054466   \n\n   BounceRates  ExitRates  PageValues  SpecialDay  ...  Month_Feb  Month_Mar  \\\n0     2.207184   1.983626   -0.529787   -0.336232  ...          1          0   \n1    -0.799476   1.571869   -0.529787   -0.336232  ...          1          0   \n2     2.207184   1.983626   -0.529787   -0.336232  ...          1          0   \n3     1.711008   1.833617   -0.529787   -0.336232  ...          1          0   \n4     0.758331   0.724766   -0.529787   -0.336232  ...          1          0   \n\n   Month_May  Month_June  Month_Jul  Month_Aug  Month_Sep  Month_Oct  \\\n0          0           0          0          0          0          0   \n1          0           0          0          0          0          0   \n2          0           0          0          0          0          0   \n3          0           0          0          0          0          0   \n4          0           0          0          0          0          0   \n\n   Month_Nov  Month_Dec  \n0          0          0  \n1          0          0  \n2          0          0  \n3          0          0  \n4          0          0  \n\n[5 rows x 76 columns]"
                    },
                    "execution_count": 14,
                    "metadata": {},
                    "output_type": "execute_result"
                }
            ],
            "source": "df_transformed.head()"
        },
        {
            "cell_type": "code",
            "execution_count": 15,
            "metadata": {},
            "outputs": [
                {
                    "data": {
                        "text/html": "<div>\n<style scoped>\n    .dataframe tbody tr th:only-of-type {\n        vertical-align: middle;\n    }\n\n    .dataframe tbody tr th {\n        vertical-align: top;\n    }\n\n    .dataframe thead th {\n        text-align: right;\n    }\n</style>\n<table border=\"1\" class=\"dataframe\">\n  <thead>\n    <tr style=\"text-align: right;\">\n      <th></th>\n      <th>Administrative</th>\n      <th>Administrative_Duration</th>\n      <th>Informational</th>\n      <th>Informational_Duration</th>\n      <th>ProductRelated</th>\n      <th>ProductRelated_Duration</th>\n      <th>BounceRates</th>\n      <th>ExitRates</th>\n      <th>PageValues</th>\n      <th>SpecialDay</th>\n      <th>...</th>\n      <th>Month_Feb</th>\n      <th>Month_Mar</th>\n      <th>Month_May</th>\n      <th>Month_June</th>\n      <th>Month_Jul</th>\n      <th>Month_Aug</th>\n      <th>Month_Sep</th>\n      <th>Month_Oct</th>\n      <th>Month_Nov</th>\n      <th>Month_Dec</th>\n    </tr>\n  </thead>\n  <tbody>\n    <tr>\n      <th>0</th>\n      <td>0.0</td>\n      <td>0.0</td>\n      <td>0.0</td>\n      <td>0.0</td>\n      <td>1.0</td>\n      <td>0.000000</td>\n      <td>0.20</td>\n      <td>0.20</td>\n      <td>0.0</td>\n      <td>0.0</td>\n      <td>...</td>\n      <td>1</td>\n      <td>0</td>\n      <td>0</td>\n      <td>0</td>\n      <td>0</td>\n      <td>0</td>\n      <td>0</td>\n      <td>0</td>\n      <td>0</td>\n      <td>0</td>\n    </tr>\n    <tr>\n      <th>1</th>\n      <td>0.0</td>\n      <td>0.0</td>\n      <td>0.0</td>\n      <td>0.0</td>\n      <td>2.0</td>\n      <td>64.000000</td>\n      <td>0.00</td>\n      <td>0.10</td>\n      <td>0.0</td>\n      <td>0.0</td>\n      <td>...</td>\n      <td>1</td>\n      <td>0</td>\n      <td>0</td>\n      <td>0</td>\n      <td>0</td>\n      <td>0</td>\n      <td>0</td>\n      <td>0</td>\n      <td>0</td>\n      <td>0</td>\n    </tr>\n    <tr>\n      <th>2</th>\n      <td>0.0</td>\n      <td>0.0</td>\n      <td>0.0</td>\n      <td>0.0</td>\n      <td>1.0</td>\n      <td>0.000000</td>\n      <td>0.20</td>\n      <td>0.20</td>\n      <td>0.0</td>\n      <td>0.0</td>\n      <td>...</td>\n      <td>1</td>\n      <td>0</td>\n      <td>0</td>\n      <td>0</td>\n      <td>0</td>\n      <td>0</td>\n      <td>0</td>\n      <td>0</td>\n      <td>0</td>\n      <td>0</td>\n    </tr>\n    <tr>\n      <th>3</th>\n      <td>0.0</td>\n      <td>0.0</td>\n      <td>0.0</td>\n      <td>0.0</td>\n      <td>2.0</td>\n      <td>2.666667</td>\n      <td>0.05</td>\n      <td>0.14</td>\n      <td>0.0</td>\n      <td>0.0</td>\n      <td>...</td>\n      <td>1</td>\n      <td>0</td>\n      <td>0</td>\n      <td>0</td>\n      <td>0</td>\n      <td>0</td>\n      <td>0</td>\n      <td>0</td>\n      <td>0</td>\n      <td>0</td>\n    </tr>\n    <tr>\n      <th>4</th>\n      <td>0.0</td>\n      <td>0.0</td>\n      <td>0.0</td>\n      <td>0.0</td>\n      <td>10.0</td>\n      <td>627.500000</td>\n      <td>0.02</td>\n      <td>0.05</td>\n      <td>0.0</td>\n      <td>0.0</td>\n      <td>...</td>\n      <td>1</td>\n      <td>0</td>\n      <td>0</td>\n      <td>0</td>\n      <td>0</td>\n      <td>0</td>\n      <td>0</td>\n      <td>0</td>\n      <td>0</td>\n      <td>0</td>\n    </tr>\n  </tbody>\n</table>\n<p>5 rows \u00d7 76 columns</p>\n</div>",
                        "text/plain": "   Administrative  Administrative_Duration  Informational  \\\n0             0.0                      0.0            0.0   \n1             0.0                      0.0            0.0   \n2             0.0                      0.0            0.0   \n3             0.0                      0.0            0.0   \n4             0.0                      0.0            0.0   \n\n   Informational_Duration  ProductRelated  ProductRelated_Duration  \\\n0                     0.0             1.0                 0.000000   \n1                     0.0             2.0                64.000000   \n2                     0.0             1.0                 0.000000   \n3                     0.0             2.0                 2.666667   \n4                     0.0            10.0               627.500000   \n\n   BounceRates  ExitRates  PageValues  SpecialDay  ...  Month_Feb  Month_Mar  \\\n0         0.20       0.20         0.0         0.0  ...          1          0   \n1         0.00       0.10         0.0         0.0  ...          1          0   \n2         0.20       0.20         0.0         0.0  ...          1          0   \n3         0.05       0.14         0.0         0.0  ...          1          0   \n4         0.02       0.05         0.0         0.0  ...          1          0   \n\n   Month_May  Month_June  Month_Jul  Month_Aug  Month_Sep  Month_Oct  \\\n0          0           0          0          0          0          0   \n1          0           0          0          0          0          0   \n2          0           0          0          0          0          0   \n3          0           0          0          0          0          0   \n4          0           0          0          0          0          0   \n\n   Month_Nov  Month_Dec  \n0          0          0  \n1          0          0  \n2          0          0  \n3          0          0  \n4          0          0  \n\n[5 rows x 76 columns]"
                    },
                    "execution_count": 15,
                    "metadata": {},
                    "output_type": "execute_result"
                }
            ],
            "source": "df_encoded.head()"
        },
        {
            "cell_type": "code",
            "execution_count": 16,
            "metadata": {},
            "outputs": [
                {
                    "name": "stdout",
                    "output_type": "stream",
                    "text": "Collecting lightgbm\n\u001b[?25l  Downloading https://files.pythonhosted.org/packages/0b/9d/ddcb2f43aca194987f1a99e27edf41cf9bc39ea750c3371c2a62698c509a/lightgbm-2.3.1-py2.py3-none-manylinux1_x86_64.whl (1.2MB)\n\u001b[K    100% |################################| 1.2MB 2.4MB/s eta 0:00:01\n\u001b[?25hCollecting scikit-learn (from lightgbm)\n\u001b[?25l  Downloading https://files.pythonhosted.org/packages/d1/48/e9fa9e252abcd1447eff6f9257636af31758a6e46fd5ce5d3c879f6907cb/scikit_learn-0.22.1-cp36-cp36m-manylinux1_x86_64.whl (7.0MB)\n\u001b[K    100% |################################| 7.1MB 1.1MB/s eta 0:00:01##############  | 6.7MB 41.6MB/s eta 0:00:01\n\u001b[?25hCollecting numpy (from lightgbm)\n\u001b[?25l  Downloading https://files.pythonhosted.org/packages/62/20/4d43e141b5bc426ba38274933ef8e76e85c7adea2c321ecf9ebf7421cedf/numpy-1.18.1-cp36-cp36m-manylinux1_x86_64.whl (20.1MB)\n\u001b[K    100% |################################| 20.2MB 813kB/s eta 0:00:01\n\u001b[?25hCollecting scipy (from lightgbm)\n\u001b[?25l  Downloading https://files.pythonhosted.org/packages/dc/29/162476fd44203116e7980cfbd9352eef9db37c49445d1fec35509022f6aa/scipy-1.4.1-cp36-cp36m-manylinux1_x86_64.whl (26.1MB)\n\u001b[K    100% |################################| 26.1MB 861kB/s eta 0:00:01\n\u001b[?25hCollecting joblib>=0.11 (from scikit-learn->lightgbm)\n\u001b[?25l  Downloading https://files.pythonhosted.org/packages/28/5c/cf6a2b65a321c4a209efcdf64c2689efae2cb62661f8f6f4bb28547cf1bf/joblib-0.14.1-py2.py3-none-any.whl (294kB)\n\u001b[K    100% |################################| 296kB 3.8MB/s eta 0:00:01\n\u001b[31mtensorflow 1.13.1 requires tensorboard<1.14.0,>=1.13.0, which is not installed.\u001b[0m\n\u001b[?25hInstalling collected packages: numpy, scipy, joblib, scikit-learn, lightgbm\nSuccessfully installed joblib-0.14.1 lightgbm-2.3.1 numpy-1.18.1 scikit-learn-0.22.1 scipy-1.4.1\n"
                }
            ],
            "source": "!pip install lightgbm "
        },
        {
            "cell_type": "code",
            "execution_count": 17,
            "metadata": {},
            "outputs": [
                {
                    "name": "stdout",
                    "output_type": "stream",
                    "text": "Collecting hyperopt\n\u001b[?25l  Downloading https://files.pythonhosted.org/packages/7e/11/8bbbb5edb78c40a2bd0f6b730e3dc0f29ffbaea9a59520eb9622951e9151/hyperopt-0.2.3-py3-none-any.whl (1.9MB)\n\u001b[K    100% |################################| 1.9MB 4.0MB/s eta 0:00:01\n\u001b[?25hCollecting numpy (from hyperopt)\n  Using cached https://files.pythonhosted.org/packages/62/20/4d43e141b5bc426ba38274933ef8e76e85c7adea2c321ecf9ebf7421cedf/numpy-1.18.1-cp36-cp36m-manylinux1_x86_64.whl\nCollecting six (from hyperopt)\n  Downloading https://files.pythonhosted.org/packages/65/eb/1f97cb97bfc2390a276969c6fae16075da282f5058082d4cb10c6c5c1dba/six-1.14.0-py2.py3-none-any.whl\nCollecting networkx==2.2 (from hyperopt)\n\u001b[?25l  Downloading https://files.pythonhosted.org/packages/f3/f4/7e20ef40b118478191cec0b58c3192f822cace858c19505c7670961b76b2/networkx-2.2.zip (1.7MB)\n\u001b[K    100% |################################| 1.7MB 4.0MB/s eta 0:00:01\n\u001b[?25hCollecting future (from hyperopt)\n\u001b[?25l  Downloading https://files.pythonhosted.org/packages/45/0b/38b06fd9b92dc2b68d58b75f900e97884c45bedd2ff83203d933cf5851c9/future-0.18.2.tar.gz (829kB)\n\u001b[K    100% |################################| 829kB 4.7MB/s eta 0:00:01\n\u001b[?25hCollecting tqdm (from hyperopt)\n\u001b[?25l  Downloading https://files.pythonhosted.org/packages/cd/80/5bb262050dd2f30f8819626b7c92339708fe2ed7bd5554c8193b4487b367/tqdm-4.42.1-py2.py3-none-any.whl (59kB)\n\u001b[K    100% |################################| 61kB 3.3MB/s eta 0:00:01\n\u001b[?25hCollecting scipy (from hyperopt)\n  Using cached https://files.pythonhosted.org/packages/dc/29/162476fd44203116e7980cfbd9352eef9db37c49445d1fec35509022f6aa/scipy-1.4.1-cp36-cp36m-manylinux1_x86_64.whl\nCollecting cloudpickle (from hyperopt)\n  Downloading https://files.pythonhosted.org/packages/c1/49/334e279caa3231255725c8e860fa93e72083567625573421db8875846c14/cloudpickle-1.2.2-py2.py3-none-any.whl\nCollecting decorator>=4.3.0 (from networkx==2.2->hyperopt)\n  Downloading https://files.pythonhosted.org/packages/8f/b7/f329cfdc75f3d28d12c65980e4469e2fa373f1953f5df6e370e84ea2e875/decorator-4.4.1-py2.py3-none-any.whl\nBuilding wheels for collected packages: networkx, future\n  Building wheel for networkx (setup.py) ... \u001b[?25ldone\n\u001b[?25h  Stored in directory: /home/spark/shared/.cache/pip/wheels/68/f8/29/b53346a112a07d30a5a84d53f19aeadaa1a474897c0423af91\n  Building wheel for future (setup.py) ... \u001b[?25ldone\n\u001b[?25h  Stored in directory: /home/spark/shared/.cache/pip/wheels/8b/99/a0/81daf51dcd359a9377b110a8a886b3895921802d2fc1b2397e\nSuccessfully built networkx future\n\u001b[31mtensorflow 1.13.1 requires tensorboard<1.14.0,>=1.13.0, which is not installed.\u001b[0m\nInstalling collected packages: numpy, six, decorator, networkx, future, tqdm, scipy, cloudpickle, hyperopt\nSuccessfully installed cloudpickle-1.2.2 decorator-4.4.1 future-0.18.2 hyperopt-0.2.3 networkx-2.2 numpy-1.18.1 scipy-1.4.1 six-1.14.0 tqdm-4.42.1\n\u001b[33mTarget directory /home/spark/shared/user-libs/python3.6/scipy already exists. Specify --upgrade to force replacement.\u001b[0m\n\u001b[33mTarget directory /home/spark/shared/user-libs/python3.6/numpy-1.18.1.dist-info already exists. Specify --upgrade to force replacement.\u001b[0m\n\u001b[33mTarget directory /home/spark/shared/user-libs/python3.6/numpy already exists. Specify --upgrade to force replacement.\u001b[0m\n\u001b[33mTarget directory /home/spark/shared/user-libs/python3.6/scipy-1.4.1.dist-info already exists. Specify --upgrade to force replacement.\u001b[0m\n\u001b[33mTarget directory /home/spark/shared/user-libs/python3.6/bin already exists. Specify --upgrade to force replacement.\u001b[0m\n"
                }
            ],
            "source": "!pip install hyperopt"
        },
        {
            "cell_type": "markdown",
            "metadata": {},
            "source": "# Boosted tree"
        },
        {
            "cell_type": "code",
            "execution_count": 18,
            "metadata": {},
            "outputs": [],
            "source": "import lightgbm as lgb #light gradient boosted tree\nfrom sklearn.model_selection import train_test_split, StratifiedKFold # train and test split\nfrom sklearn.metrics import balanced_accuracy_score,precision_score# metrics\nfrom hyperopt import fmin, tpe, hp, Trials, STATUS_OK# optimization\nimport numpy as np\nimport pandas as pd # reading data"
        },
        {
            "cell_type": "code",
            "execution_count": 19,
            "metadata": {},
            "outputs": [],
            "source": "label = df_encoded.pop('Revenue').astype('int')\n_,_ = df_scaled.pop('Revenue'),df_transformed.pop('Revenue')"
        },
        {
            "cell_type": "code",
            "execution_count": 20,
            "metadata": {},
            "outputs": [],
            "source": "skf = StratifiedKFold(n_splits=5, random_state=None, shuffle=True)\n#Hyperparameter search space for gradient boosed trees\nlgb_space = {'lr':hp.loguniform('lr',-6.9,-2.3),'num_leaves':hp.quniform('num_leaves',15,255,1),\n         'max_depth':hp.choice('max_depth',[-1,9,12]),'colsample_bytree': hp.uniform('colsample_bytree', 0.3, 1.0)}"
        },
        {
            "cell_type": "code",
            "execution_count": 21,
            "metadata": {},
            "outputs": [],
            "source": "def lgb_optimizer(params):\n    '''A function to optimize  lgb classifier\n    :params:=params , dictionary containing the Hyper-parameters for the classifier\n    returns true loss and validation loss\n    '''\n    if 'num_leaves' in params:\n        params['num_leaves']=int(params['num_leaves'])\n    if 'max_depth' in params:\n        params['max_depth']=int(params['max_depth'])\n    val_score=[]\n    true_scores=[]\n    rd=1\n    for train_index, test_index in skf.split(X_train, y_train):\n        X_tr, X_val = X_train.iloc[train_index], X_train.iloc[test_index]\n        y_tr, y_val = y_train.iloc[train_index], y_train.iloc[test_index]\n        clf = lgb.LGBMClassifier(n_estimators=2000,**params)\n        clf.fit(X_tr,y_tr,eval_set=(X_val,y_val),early_stopping_rounds =200,eval_metric='logloss',verbose=False)\n        y_pred = clf.predict(X_val)\n        y_tr_pred=clf.predict(X_tr)\n        score=balanced_accuracy_score(y_val,y_pred,)\n        true_score=balanced_accuracy_score(y_tr,y_tr_pred)\n        val_score.append(score)\n        true_scores.append(true_score)\n        rd+=1\n    mean,std =np.mean(val_score),np.std(val_score)\n    true_mean=np.mean(true_scores)\n    print(\"mean: {}, Std: {}\".format(mean,std))\n    return {'loss':-mean,'status': STATUS_OK,'true_loss':-true_mean}"
        },
        {
            "cell_type": "code",
            "execution_count": null,
            "metadata": {},
            "outputs": [
                {
                    "name": "stdout",
                    "output_type": "stream",
                    "text": "mean: 0.7533833164834423, Std: 0.01233636622840149    \nmean: 0.7667746809247153, Std: 0.018128491565918788                               \nmean: 0.7622321086024422, Std: 0.01837275651719309                                \nmean: 0.7782270561345059, Std: 0.004882559532529377                               \nmean: 0.7776755523285965, Std: 0.022936696861284755                               \nmean: 0.7674734536111462, Std: 0.012627092092442444                               \nmean: 0.7504660817317605, Std: 0.02555809360092492                               \nmean: 0.7731760190851572, Std: 0.007798419672713328                              \nmean: 0.7822265412651539, Std: 0.01014176365071247                                \nmean: 0.7508403805034473, Std: 0.011883528904238818                               \nmean: 0.7665384971063591, Std: 0.009015786751632962                               \nmean: 0.7709503338527848, Std: 0.0048357227164647016                               \nmean: 0.7746482455077024, Std: 0.021449292019126324                                \nmean: 0.777772059090006, Std: 0.011192149926747361                                 \nmean: 0.7597332239444242, Std: 0.011953420221172179                               \nmean: 0.7716892963410533, Std: 0.012967123423841759                               \nmean: 0.7763599674082702, Std: 0.014056319294696728                               \nmean: 0.7579819808223665, Std: 0.013748194848374343                               \nmean: 0.7811482836230306, Std: 0.008489142155836684                                \nmean: 0.7490897684712505, Std: 0.011998303395322301                                \n100%|\u2588\u2588\u2588\u2588\u2588\u2588\u2588\u2588\u2588\u2588| 20/20 [31:49<00:00, 95.46s/trial, best loss: -0.7822265412651539] \n"
                }
            ],
            "source": "X_train,X_test,y_train,y_test = train_test_split(df_encoded,label,test_size=0.2,random_state=42)\ntrials_encoded = Trials()\nbest_e= fmin(lgb_optimizer,lgb_space, algo=tpe.suggest, max_evals=20, trials=trials_encoded)"
        },
        {
            "cell_type": "code",
            "execution_count": 23,
            "metadata": {},
            "outputs": [
                {
                    "name": "stdout",
                    "output_type": "stream",
                    "text": "mean: 0.7515955326335942, Std: 0.011007345137354104   \nmean: 0.780523579641666, Std: 0.014548644372795384                               \nmean: 0.7630088989918807, Std: 0.008101828965125544                              \nmean: 0.7525878808252406, Std: 0.007890697355819083                             \nmean: 0.7552142456351701, Std: 0.009573175207130457                              \nmean: 0.7841542396116987, Std: 0.019482676988418796                              \nmean: 0.7874331450894336, Std: 0.011235470525126696                              \nmean: 0.7681535935256429, Std: 0.01816613214557168                               \nmean: 0.765720254735361, Std: 0.012577547055744709                               \nmean: 0.7659754774725914, Std: 0.017229980607671586                              \nmean: 0.7584103783664895, Std: 0.010917435953608267                               \nmean: 0.7665562488518538, Std: 0.00904051752934314                                \nmean: 0.7808562702214312, Std: 0.005344005566166737                               \nmean: 0.7688682121911565, Std: 0.011158606296670714                               \nmean: 0.7695841055332209, Std: 0.003026057931755114                               \nmean: 0.7514198522125011, Std: 0.010796039743437602                               \nmean: 0.7568385584657893, Std: 0.020485269977807065                               \nmean: 0.7728933408147683, Std: 0.01067754688244794                                \nmean: 0.7564330613606798, Std: 0.007867615841093112                               \nmean: 0.7754137450122031, Std: 0.01345893521354089                                \n100%|\u2588\u2588\u2588\u2588\u2588\u2588\u2588\u2588\u2588\u2588| 20/20 [28:50<00:00, 86.54s/trial, best loss: -0.7874331450894336] \n"
                }
            ],
            "source": "X_train,X_test,y_train,y_test = train_test_split(df_scaled,label,test_size=0.2,random_state=42)\ntrials_scaled = Trials()\nbest_scaled = fmin(lgb_optimizer, lgb_space, algo=tpe.suggest, max_evals=20, trials=trials_scaled)"
        },
        {
            "cell_type": "code",
            "execution_count": null,
            "metadata": {},
            "outputs": [
                {
                    "name": "stdout",
                    "output_type": "stream",
                    "text": "mean: 0.7707042213038442, Std: 0.026421464264551324   \nmean: 0.7757554832961135, Std: 0.01240860224763301                               \nmean: 0.7494629925156492, Std: 0.006698934135540784                              \nmean: 0.7704461117991309, Std: 0.019710282197254004                              \nmean: 0.7780565618974185, Std: 0.018163038397543723                              \nmean: 0.7719314161531512, Std: 0.011572866678507734                              \nmean: 0.777971977110808, Std: 0.01403921560014026                                \nmean: 0.7800540987724365, Std: 0.0068986268143904645                             \nmean: 0.7742453102525234, Std: 0.012109994980040558                              \nmean: 0.7700757370317282, Std: 0.022126581987335133                              \nmean: 0.7557586324970039, Std: 0.01891094766576971                                \nmean: 0.7777104122328959, Std: 0.010273912614346696                               \nmean: 0.7601800293175607, Std: 0.014225655374733923                               \nmean: 0.7751561853679629, Std: 0.011283846325083224                               \nmean: 0.7435336158449793, Std: 0.017496157479097732                               \nmean: 0.7807806144190911, Std: 0.012107027368559328                               \nmean: 0.7731175901614965, Std: 0.016308081265124823                               \nmean: 0.7786044291261092, Std: 0.004584656235703809                               \nmean: 0.7770845522948553, Std: 0.005868859667237729                               \nmean: 0.7709289580269006, Std: 0.015403591411145664                               \n100%|\u2588\u2588\u2588\u2588\u2588\u2588\u2588\u2588\u2588\u2588| 20/20 [24:23<00:00, 73.15s/trial, best loss: -0.7807806144190911]\n"
                }
            ],
            "source": "X_train,X_test,y_train,y_test = train_test_split(df_transformed,label,test_size=0.2,random_state=42)\ntrials_transformed = Trials()\nbest_transformed = fmin(lgb_optimizer, lgb_space, algo=tpe.suggest, max_evals=20, trials=trials_transformed)"
        },
        {
            "cell_type": "code",
            "execution_count": 25,
            "metadata": {},
            "outputs": [],
            "source": "def model_trainer(Data,label,params,classifier='lgb',test_size=0.2):\n    '''A function to train a model. \n    parameters:\n    Data :=pandas dataset or numpy array of features\n    label:=pandas dataset or numpy array of labels for features \n    params:=python dict parametes for the model\n    model:=keras model object or sklearn classifier object\n    test_size:=Float (0,1) fraction for test split\n    return\n    model:=str 'keras','lgb'\n    train_score:=float balanced accuracy train score\n    test_score:=float balanced accuracy test score\n    returns-trained model,train_score,test_score\n    '''\n    X_train,X_test,y_train,y_test = train_test_split(Data,label,test_size=test_size,random_state=42)\n    if classifier=='lgb':\n        if 'num_leaves' in params:\n            params['num_leaves']=int(params['num_leaves'])\n        if 'max_depth' in params:\n            #max_depth=[-1,9,12]#max_depth choice list\n            params['max_depth']=-1#int(params['max_depth'])#best returns an index corresponding the choice\n        clf = lgb.LGBMClassifier(n_estimators=5000,**params)\n        clf.fit(X_train,y_train,eval_set=(X_test,y_test),early_stopping_rounds =200,eval_metric='auc',verbose=False)\n        train_pred=clf.predict(X_train)\n        test_pred=clf.predict(X_test)\n    elif classifier=='keras':\n        opt=['adam','sgd']\n        if 'optimizer' in params:\n            params['optimizer'] =opt[params['optimizer']]\n        clf = model(feature_size=X_train.shape[-1],**params)\n        clf.fit(X_train,y_train,epochs=20,batch_size=128,verbose=0)\n        train_pred=np.round(clf.predict(X_train))\n        test_pred=np.round(clf.predict(X_test))\n    train_score = balanced_accuracy_score(train_pred,y_train)\n    test_score= balanced_accuracy_score(test_pred,y_test)\n    return clf,train_score,test_score"
        },
        {
            "cell_type": "code",
            "execution_count": 26,
            "metadata": {},
            "outputs": [],
            "source": "clf_encoded,lgb_train_encoded,lgb_test_encoded=model_trainer(df_encoded,label,best_e)\nclf_scaled,lgb_train_scaled,lgb_test_scaled=model_trainer(df_scaled,label,best_scaled)\nclf_transformed,lgb_train_transformed,lgb_test_transformed=model_trainer(df_transformed,label,best_transformed)"
        },
        {
            "cell_type": "code",
            "execution_count": 27,
            "metadata": {},
            "outputs": [
                {
                    "name": "stdout",
                    "output_type": "stream",
                    "text": "{'colsample_bytree': 0.5287787193623354, 'lr': 0.0018176893207910196, 'max_depth': -1, 'num_leaves': 18}\n{'colsample_bytree': 0.7129385446110139, 'lr': 0.0024492927508158084, 'max_depth': -1, 'num_leaves': 28}\n{'colsample_bytree': 0.7848181582024321, 'lr': 0.01598886788184697, 'max_depth': -1, 'num_leaves': 45}\n| Dataset Type | Train Score | Test Score |\n| Encoded      | 0.894340       | 0.807394     |\n| Scaled       | 0.894238       | 0.810159     |\n| Transformed  | 0.894238       | 0.810159     |\n"
                }
            ],
            "source": "print(best_e)\nprint(best_scaled)\nprint(best_transformed)\nprint(\"| Dataset Type | Train Score | Test Score |\")\nprint(\"| Encoded      | {:2f}       | {:2f}     |\".format(lgb_train_encoded,lgb_test_encoded))\nprint(\"| Scaled       | {:2f}       | {:2f}     |\".format(lgb_train_scaled,lgb_test_scaled))\nprint(\"| Transformed  | {:2f}       | {:2f}     |\".format(lgb_train_scaled,lgb_test_scaled))"
        },
        {
            "cell_type": "markdown",
            "metadata": {},
            "source": "# Neural network"
        },
        {
            "cell_type": "code",
            "execution_count": 28,
            "metadata": {},
            "outputs": [
                {
                    "name": "stderr",
                    "output_type": "stream",
                    "text": "Using TensorFlow backend.\n"
                }
            ],
            "source": "from keras.models import Sequential\nfrom keras.layers import Dense, Dropout\nfrom keras.optimizers import Adam, SGD\nfrom keras.callbacks import EarlyStopping"
        },
        {
            "cell_type": "code",
            "execution_count": 29,
            "metadata": {},
            "outputs": [],
            "source": "skf = StratifiedKFold(n_splits=5, random_state=None, shuffle=True)"
        },
        {
            "cell_type": "code",
            "execution_count": 30,
            "metadata": {},
            "outputs": [],
            "source": "def model(feature_size,lr=0.1,optimizer='adam',hl_size=128):\n    ''' function to define keras model\n    :feature:=\n    '''\n    if optimizer=='adam':\n        opt =Adam(lr=lr)\n    elif optimizer=='sgd':\n        opt = SGD(lr=lr)\n    hl_size=int(hl_size)\n    model =Sequential()\n    model.add(Dense(hl_size,activation='relu',input_shape=(feature_size,)))\n    model.add(Dropout(0.25))\n    model.add(Dense(hl_size,activation='relu'))\n    model.add(Dense(1,activation='sigmoid'))\n    model.compile(optimizer=opt,loss='binary_crossentropy',metrics=['acc'])\n    return model"
        },
        {
            "cell_type": "code",
            "execution_count": 31,
            "metadata": {},
            "outputs": [],
            "source": "def keras_optimizer(params):\n    val_score=[]\n    true_scores=[]\n    rd=1\n    for train_index, test_index in skf.split(X_train, y_train):\n        X_tr, X_val = X_train.iloc[train_index], X_train.iloc[test_index]\n        y_tr, y_val = y_train.iloc[train_index], y_train.iloc[test_index]\n        nn_model = model(X_train.shape[1],**params)\n        cb = EarlyStopping(monitor='val_acc',min_delta=0.001,patience=3)\n        nn_model.fit(X_tr,y_tr,validation_data=(X_val,y_val),batch_size=128,callbacks=[cb],epochs=50,verbose=0)\n        #_,score= nn_model.evaluate(X_val,y_val)\n        #_,true_score=nn_model.evaluate(X_tr,y_tr)\n        cv_pred = np.round(nn_model.predict(X_val))\n        score=balanced_accuracy_score(y_val,cv_pred)\n        y_tr_pred = np.round(nn_model.predict(X_tr))\n        true_score=balanced_accuracy_score(y_tr,y_tr_pred)\n        \n        val_score.append(score)\n        true_scores.append(true_score)\n        rd+=1\n    mean,std =np.mean(val_score),np.std(val_score)\n    true_mean=np.mean(true_scores)\n    print(\"mean: {}, Std: {}\".format(mean,std))\n    return {'loss':-mean,'status': STATUS_OK,'true_loss':-true_mean}"
        },
        {
            "cell_type": "code",
            "execution_count": 32,
            "metadata": {},
            "outputs": [],
            "source": "keras_space = {'lr':hp.loguniform('lr',-10,-2.3),'optimizer':hp.choice('optimizer',['adam','sgd'])}"
        },
        {
            "cell_type": "code",
            "execution_count": null,
            "metadata": {},
            "outputs": [
                {
                    "name": "stdout",
                    "output_type": "stream",
                    "text": "  0%|          | 0/10 [00:00<?, ?trial/s, best loss=?]"
                },
                {
                    "name": "stderr",
                    "output_type": "stream",
                    "text": "WARNING:tensorflow:From /opt/ibm/conda/miniconda3.6/lib/python3.6/site-packages/tensorflow/python/framework/op_def_library.py:263: colocate_with (from tensorflow.python.framework.ops) is deprecated and will be removed in a future version.\nInstructions for updating:\nColocations handled automatically by placer.\nWARNING:tensorflow:From /opt/ibm/conda/miniconda3.6/lib/python3.6/site-packages/keras/backend/tensorflow_backend.py:3445: calling dropout (from tensorflow.python.ops.nn_ops) with keep_prob is deprecated and will be removed in a future version.\nInstructions for updating:\nPlease use `rate` instead of `keep_prob`. Rate should be set to `rate = 1 - keep_prob`.\nWARNING:tensorflow:From /opt/ibm/conda/miniconda3.6/lib/python3.6/site-packages/tensorflow/python/ops/math_ops.py:3066: to_int32 (from tensorflow.python.ops.math_ops) is deprecated and will be removed in a future version.\nInstructions for updating:\nUse tf.cast instead.\n"
                },
                {
                    "name": "stdout",
                    "output_type": "stream",
                    "text": "mean: 0.5, Std: 0.0                                   \nmean: 0.5127817066419396, Std: 0.024767383090950997                  \nmean: 0.49468519238243297, Std: 0.006431249734539248                                \nmean: 0.5, Std: 0.0                                                                 \nmean: 0.5, Std: 0.0                                                                 \nmean: 0.5347291937170943, Std: 0.039781656501561936                                   \nmean: 0.6113991449669646, Std: 0.09616708711323922                                    \nmean: 0.5, Std: 0.0                                                                  \nmean: 0.5007679676282144, Std: 0.006983776792490679                                  \n 90%|\u2588\u2588\u2588\u2588\u2588\u2588\u2588\u2588\u2588 | 9/10 [2:22:21<17:02, 1022.58s/trial, best loss: -0.6113991449669646]"
                }
            ],
            "source": "X_train,X_test,y_train,y_test = train_test_split(df_encoded,label,test_size=0.2,random_state=42)\nbest_nn_encoded=fmin(keras_optimizer,keras_space,algo=tpe.suggest,max_evals=10)"
        },
        {
            "cell_type": "code",
            "execution_count": null,
            "metadata": {},
            "outputs": [],
            "source": "X_train,X_test,y_train,y_test = train_test_split(df_scaled,label,test_size=0.2,random_state=42)\nbest_nn_scaled=fmin(keras_optimizer,keras_space,algo=tpe.suggest,max_evals=10)"
        },
        {
            "cell_type": "code",
            "execution_count": null,
            "metadata": {},
            "outputs": [],
            "source": "X_train,X_test,y_train,y_test = train_test_split(df_transformed,label,test_size=0.2,random_state=42)\nbest_nn_transformed=fmin(keras_optimizer,keras_space,algo=tpe.suggest,max_evals=10)"
        },
        {
            "cell_type": "code",
            "execution_count": null,
            "metadata": {},
            "outputs": [],
            "source": ""
        }
    ],
    "metadata": {
        "kernelspec": {
            "display_name": "Python 3.6 with Spark",
            "language": "python3",
            "name": "python36"
        },
        "language_info": {
            "codemirror_mode": {
                "name": "ipython",
                "version": 3
            },
            "file_extension": ".py",
            "mimetype": "text/x-python",
            "name": "python",
            "nbconvert_exporter": "python",
            "pygments_lexer": "ipython3",
            "version": "3.6.8"
        }
    },
    "nbformat": 4,
    "nbformat_minor": 1
}