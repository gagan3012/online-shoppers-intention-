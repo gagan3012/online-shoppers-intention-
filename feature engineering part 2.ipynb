{
    "cells": [
        {
            "cell_type": "markdown",
            "metadata": {
                "collapsed": true
            },
            "source": "# Feature engineering and ETL\nIn the initial data exploration it was established that the data is skewed , has some outliers and missing values for numerical columns. There are categorical features that need to be one hot encoded. Since multiple models will be used multiple saves will be created depending on the transformations. For eg, Tree based models do not require that data be scaled while it is a good idea to scale data for neural networks.\n\nIn total 3 different ETL pipelines are created. One with one hot encoded categorical columns, one with scaled columns and one with scaled and transformed. The Yeo jhonson transformation is used on numerical columns to handle skewness. this should work well with Neural Network."
        },
        {
            "cell_type": "code",
            "execution_count": 1,
            "metadata": {},
            "outputs": [],
            "source": "import pandas as pd\nfrom sklearn.preprocessing import MinMaxScaler, PowerTransformer"
        },
        {
            "cell_type": "code",
            "execution_count": 2,
            "metadata": {},
            "outputs": [
                {
                    "data": {
                        "text/html": "<div>\n<style scoped>\n    .dataframe tbody tr th:only-of-type {\n        vertical-align: middle;\n    }\n\n    .dataframe tbody tr th {\n        vertical-align: top;\n    }\n\n    .dataframe thead th {\n        text-align: right;\n    }\n</style>\n<table border=\"1\" class=\"dataframe\">\n  <thead>\n    <tr style=\"text-align: right;\">\n      <th></th>\n      <th>Administrative</th>\n      <th>Administrative_Duration</th>\n      <th>Informational</th>\n      <th>Informational_Duration</th>\n      <th>ProductRelated</th>\n      <th>ProductRelated_Duration</th>\n      <th>BounceRates</th>\n      <th>ExitRates</th>\n      <th>PageValues</th>\n      <th>SpecialDay</th>\n      <th>Month</th>\n      <th>OperatingSystems</th>\n      <th>Browser</th>\n      <th>Region</th>\n      <th>TrafficType</th>\n      <th>VisitorType</th>\n      <th>Weekend</th>\n      <th>Revenue</th>\n    </tr>\n  </thead>\n  <tbody>\n    <tr>\n      <th>0</th>\n      <td>0.0</td>\n      <td>0.0</td>\n      <td>0.0</td>\n      <td>0.0</td>\n      <td>1.0</td>\n      <td>0.000000</td>\n      <td>0.20</td>\n      <td>0.20</td>\n      <td>0.0</td>\n      <td>0.0</td>\n      <td>Feb</td>\n      <td>1</td>\n      <td>1</td>\n      <td>1</td>\n      <td>1</td>\n      <td>Returning_Visitor</td>\n      <td>False</td>\n      <td>False</td>\n    </tr>\n    <tr>\n      <th>1</th>\n      <td>0.0</td>\n      <td>0.0</td>\n      <td>0.0</td>\n      <td>0.0</td>\n      <td>2.0</td>\n      <td>64.000000</td>\n      <td>0.00</td>\n      <td>0.10</td>\n      <td>0.0</td>\n      <td>0.0</td>\n      <td>Feb</td>\n      <td>2</td>\n      <td>2</td>\n      <td>1</td>\n      <td>2</td>\n      <td>Returning_Visitor</td>\n      <td>False</td>\n      <td>False</td>\n    </tr>\n    <tr>\n      <th>2</th>\n      <td>0.0</td>\n      <td>-1.0</td>\n      <td>0.0</td>\n      <td>-1.0</td>\n      <td>1.0</td>\n      <td>-1.000000</td>\n      <td>0.20</td>\n      <td>0.20</td>\n      <td>0.0</td>\n      <td>0.0</td>\n      <td>Feb</td>\n      <td>4</td>\n      <td>1</td>\n      <td>9</td>\n      <td>3</td>\n      <td>Returning_Visitor</td>\n      <td>False</td>\n      <td>False</td>\n    </tr>\n    <tr>\n      <th>3</th>\n      <td>0.0</td>\n      <td>0.0</td>\n      <td>0.0</td>\n      <td>0.0</td>\n      <td>2.0</td>\n      <td>2.666667</td>\n      <td>0.05</td>\n      <td>0.14</td>\n      <td>0.0</td>\n      <td>0.0</td>\n      <td>Feb</td>\n      <td>3</td>\n      <td>2</td>\n      <td>2</td>\n      <td>4</td>\n      <td>Returning_Visitor</td>\n      <td>False</td>\n      <td>False</td>\n    </tr>\n    <tr>\n      <th>4</th>\n      <td>0.0</td>\n      <td>0.0</td>\n      <td>0.0</td>\n      <td>0.0</td>\n      <td>10.0</td>\n      <td>627.500000</td>\n      <td>0.02</td>\n      <td>0.05</td>\n      <td>0.0</td>\n      <td>0.0</td>\n      <td>Feb</td>\n      <td>3</td>\n      <td>3</td>\n      <td>1</td>\n      <td>4</td>\n      <td>Returning_Visitor</td>\n      <td>True</td>\n      <td>False</td>\n    </tr>\n  </tbody>\n</table>\n</div>",
                        "text/plain": "   Administrative  Administrative_Duration  Informational  \\\n0             0.0                      0.0            0.0   \n1             0.0                      0.0            0.0   \n2             0.0                     -1.0            0.0   \n3             0.0                      0.0            0.0   \n4             0.0                      0.0            0.0   \n\n   Informational_Duration  ProductRelated  ProductRelated_Duration  \\\n0                     0.0             1.0                 0.000000   \n1                     0.0             2.0                64.000000   \n2                    -1.0             1.0                -1.000000   \n3                     0.0             2.0                 2.666667   \n4                     0.0            10.0               627.500000   \n\n   BounceRates  ExitRates  PageValues  SpecialDay Month  OperatingSystems  \\\n0         0.20       0.20         0.0         0.0   Feb                 1   \n1         0.00       0.10         0.0         0.0   Feb                 2   \n2         0.20       0.20         0.0         0.0   Feb                 4   \n3         0.05       0.14         0.0         0.0   Feb                 3   \n4         0.02       0.05         0.0         0.0   Feb                 3   \n\n   Browser  Region  TrafficType        VisitorType  Weekend  Revenue  \n0        1       1            1  Returning_Visitor    False    False  \n1        2       1            2  Returning_Visitor    False    False  \n2        1       9            3  Returning_Visitor    False    False  \n3        2       2            4  Returning_Visitor    False    False  \n4        3       1            4  Returning_Visitor     True    False  "
                    },
                    "execution_count": 2,
                    "metadata": {},
                    "output_type": "execute_result"
                }
            ],
            "source": "df=pd.read_csv(\"https://raw.githubusercontent.com/gagan3012/online-shoppers-intention-/master/online_shoppers_intention.csv\")\ndf.head()"
        },
        {
            "cell_type": "code",
            "execution_count": 3,
            "metadata": {},
            "outputs": [],
            "source": "df['Administrative']=df['Administrative'].clip(lower=0,upper=20)\ndf['PageValues']=df['PageValues'].clip(lower=0,upper=250)\ndf['Administrative_Duration']=df['Administrative_Duration'].clip(lower=0,upper=1500)\ndf['Informational']=df['Informational'].clip(lower=0,upper=10)\ndf['ProductRelated_Duration']=df['ProductRelated_Duration'].clip(lower=0,upper=20000)\ndf['ProductRelated']=df['ProductRelated'].clip(lower=0,upper=400)\ndf['Informational_Duration']=df['Informational_Duration'].clip(lower=0,upper=1500)"
        },
        {
            "cell_type": "code",
            "execution_count": 4,
            "metadata": {},
            "outputs": [],
            "source": "cat_dtype = pd.api.types.CategoricalDtype(categories=['Feb', 'Mar', 'May', 'June', 'Jul', 'Aug', 'Sep', 'Oct', 'Nov','Dec'],\n                                          ordered=True)#ordered dtype for month\ndf['Month']=df['Month'].astype(cat_dtype)\n"
        },
        {
            "cell_type": "code",
            "execution_count": 5,
            "metadata": {},
            "outputs": [
                {
                    "data": {
                        "text/plain": "(12330, 18)"
                    },
                    "execution_count": 5,
                    "metadata": {},
                    "output_type": "execute_result"
                }
            ],
            "source": "df.shape"
        },
        {
            "cell_type": "code",
            "execution_count": 7,
            "metadata": {},
            "outputs": [
                {
                    "data": {
                        "text/html": "<div>\n<style scoped>\n    .dataframe tbody tr th:only-of-type {\n        vertical-align: middle;\n    }\n\n    .dataframe tbody tr th {\n        vertical-align: top;\n    }\n\n    .dataframe thead th {\n        text-align: right;\n    }\n</style>\n<table border=\"1\" class=\"dataframe\">\n  <thead>\n    <tr style=\"text-align: right;\">\n      <th></th>\n      <th>Administrative</th>\n      <th>Administrative_Duration</th>\n      <th>Informational</th>\n      <th>Informational_Duration</th>\n      <th>ProductRelated</th>\n      <th>ProductRelated_Duration</th>\n      <th>BounceRates</th>\n      <th>ExitRates</th>\n      <th>PageValues</th>\n      <th>SpecialDay</th>\n      <th>OperatingSystems</th>\n      <th>Browser</th>\n      <th>Region</th>\n      <th>TrafficType</th>\n    </tr>\n  </thead>\n  <tbody>\n    <tr>\n      <th>count</th>\n      <td>12316.000000</td>\n      <td>12316.000000</td>\n      <td>12316.000000</td>\n      <td>12316.000000</td>\n      <td>12316.000000</td>\n      <td>12316.000000</td>\n      <td>12316.000000</td>\n      <td>12316.000000</td>\n      <td>12330.000000</td>\n      <td>12330.000000</td>\n      <td>12330.000000</td>\n      <td>12330.000000</td>\n      <td>12330.000000</td>\n      <td>12330.000000</td>\n    </tr>\n    <tr>\n      <th>mean</th>\n      <td>2.313901</td>\n      <td>79.909572</td>\n      <td>0.500568</td>\n      <td>33.929274</td>\n      <td>31.630318</td>\n      <td>1187.694533</td>\n      <td>0.022152</td>\n      <td>0.043003</td>\n      <td>5.863980</td>\n      <td>0.061427</td>\n      <td>2.124006</td>\n      <td>2.357097</td>\n      <td>3.147364</td>\n      <td>4.069586</td>\n    </tr>\n    <tr>\n      <th>std</th>\n      <td>3.299558</td>\n      <td>165.983561</td>\n      <td>1.235324</td>\n      <td>133.387972</td>\n      <td>43.102423</td>\n      <td>1769.998361</td>\n      <td>0.048427</td>\n      <td>0.048527</td>\n      <td>18.173049</td>\n      <td>0.198917</td>\n      <td>0.911325</td>\n      <td>1.717277</td>\n      <td>2.401591</td>\n      <td>4.025169</td>\n    </tr>\n    <tr>\n      <th>min</th>\n      <td>0.000000</td>\n      <td>0.000000</td>\n      <td>0.000000</td>\n      <td>0.000000</td>\n      <td>0.000000</td>\n      <td>0.000000</td>\n      <td>0.000000</td>\n      <td>0.000000</td>\n      <td>0.000000</td>\n      <td>0.000000</td>\n      <td>1.000000</td>\n      <td>1.000000</td>\n      <td>1.000000</td>\n      <td>1.000000</td>\n    </tr>\n    <tr>\n      <th>25%</th>\n      <td>0.000000</td>\n      <td>0.000000</td>\n      <td>0.000000</td>\n      <td>0.000000</td>\n      <td>7.000000</td>\n      <td>185.000000</td>\n      <td>0.000000</td>\n      <td>0.014286</td>\n      <td>0.000000</td>\n      <td>0.000000</td>\n      <td>2.000000</td>\n      <td>2.000000</td>\n      <td>1.000000</td>\n      <td>2.000000</td>\n    </tr>\n    <tr>\n      <th>50%</th>\n      <td>1.000000</td>\n      <td>8.000000</td>\n      <td>0.000000</td>\n      <td>0.000000</td>\n      <td>18.000000</td>\n      <td>599.766190</td>\n      <td>0.003119</td>\n      <td>0.025124</td>\n      <td>0.000000</td>\n      <td>0.000000</td>\n      <td>2.000000</td>\n      <td>2.000000</td>\n      <td>3.000000</td>\n      <td>2.000000</td>\n    </tr>\n    <tr>\n      <th>75%</th>\n      <td>4.000000</td>\n      <td>93.500000</td>\n      <td>0.000000</td>\n      <td>0.000000</td>\n      <td>38.000000</td>\n      <td>1466.479902</td>\n      <td>0.016684</td>\n      <td>0.050000</td>\n      <td>0.000000</td>\n      <td>0.000000</td>\n      <td>3.000000</td>\n      <td>2.000000</td>\n      <td>4.000000</td>\n      <td>4.000000</td>\n    </tr>\n    <tr>\n      <th>max</th>\n      <td>20.000000</td>\n      <td>1500.000000</td>\n      <td>10.000000</td>\n      <td>1500.000000</td>\n      <td>400.000000</td>\n      <td>20000.000000</td>\n      <td>0.200000</td>\n      <td>0.200000</td>\n      <td>250.000000</td>\n      <td>1.000000</td>\n      <td>8.000000</td>\n      <td>13.000000</td>\n      <td>9.000000</td>\n      <td>20.000000</td>\n    </tr>\n  </tbody>\n</table>\n</div>",
                        "text/plain": "       Administrative  Administrative_Duration  Informational  \\\ncount    12316.000000             12316.000000   12316.000000   \nmean         2.313901                79.909572       0.500568   \nstd          3.299558               165.983561       1.235324   \nmin          0.000000                 0.000000       0.000000   \n25%          0.000000                 0.000000       0.000000   \n50%          1.000000                 8.000000       0.000000   \n75%          4.000000                93.500000       0.000000   \nmax         20.000000              1500.000000      10.000000   \n\n       Informational_Duration  ProductRelated  ProductRelated_Duration  \\\ncount            12316.000000    12316.000000             12316.000000   \nmean                33.929274       31.630318              1187.694533   \nstd                133.387972       43.102423              1769.998361   \nmin                  0.000000        0.000000                 0.000000   \n25%                  0.000000        7.000000               185.000000   \n50%                  0.000000       18.000000               599.766190   \n75%                  0.000000       38.000000              1466.479902   \nmax               1500.000000      400.000000             20000.000000   \n\n        BounceRates     ExitRates    PageValues    SpecialDay  \\\ncount  12316.000000  12316.000000  12330.000000  12330.000000   \nmean       0.022152      0.043003      5.863980      0.061427   \nstd        0.048427      0.048527     18.173049      0.198917   \nmin        0.000000      0.000000      0.000000      0.000000   \n25%        0.000000      0.014286      0.000000      0.000000   \n50%        0.003119      0.025124      0.000000      0.000000   \n75%        0.016684      0.050000      0.000000      0.000000   \nmax        0.200000      0.200000    250.000000      1.000000   \n\n       OperatingSystems       Browser        Region   TrafficType  \ncount      12330.000000  12330.000000  12330.000000  12330.000000  \nmean           2.124006      2.357097      3.147364      4.069586  \nstd            0.911325      1.717277      2.401591      4.025169  \nmin            1.000000      1.000000      1.000000      1.000000  \n25%            2.000000      2.000000      1.000000      2.000000  \n50%            2.000000      2.000000      3.000000      2.000000  \n75%            3.000000      2.000000      4.000000      4.000000  \nmax            8.000000     13.000000      9.000000     20.000000  "
                    },
                    "execution_count": 7,
                    "metadata": {},
                    "output_type": "execute_result"
                }
            ],
            "source": "df.describe()"
        },
        {
            "cell_type": "code",
            "execution_count": 8,
            "metadata": {},
            "outputs": [
                {
                    "data": {
                        "text/plain": "Administrative              float64\nAdministrative_Duration     float64\nInformational               float64\nInformational_Duration      float64\nProductRelated              float64\nProductRelated_Duration     float64\nBounceRates                 float64\nExitRates                   float64\nPageValues                  float64\nSpecialDay                  float64\nMonth                      category\nOperatingSystems              int64\nBrowser                       int64\nRegion                        int64\nTrafficType                   int64\nVisitorType                  object\nWeekend                        bool\nRevenue                        bool\ndtype: object"
                    },
                    "execution_count": 8,
                    "metadata": {},
                    "output_type": "execute_result"
                }
            ],
            "source": "df.dtypes"
        },
        {
            "cell_type": "code",
            "execution_count": 9,
            "metadata": {},
            "outputs": [],
            "source": "cat_cols=['Weekend','VisitorType','Region','Browser','OperatingSystems','TrafficType']\ndf[cat_cols]=df[cat_cols].astype('category')\ndf =df.dropna()"
        },
        {
            "cell_type": "code",
            "execution_count": 10,
            "metadata": {},
            "outputs": [],
            "source": "df_encoded=pd.get_dummies(df,columns=cat_cols+['Month'],prefix=cat_cols+['Month'])"
        },
        {
            "cell_type": "code",
            "execution_count": 11,
            "metadata": {},
            "outputs": [],
            "source": "numeric_cols = df.select_dtypes(include='float64').columns"
        },
        {
            "cell_type": "code",
            "execution_count": 32,
            "metadata": {},
            "outputs": [],
            "source": "scaler = MinMaxScaler()\npt=PowerTransformer()\ndf_transformed = df_encoded.copy()\ndf_scaled = df_encoded.copy()\ndf_scaled[numeric_cols]= scaler.fit_transform(df_encoded[numeric_cols])\ndf_transformed[numeric_cols]= pt.fit_transform(df_encoded[numeric_cols])"
        },
        {
            "cell_type": "code",
            "execution_count": 33,
            "metadata": {},
            "outputs": [
                {
                    "data": {
                        "text/html": "<div>\n<style scoped>\n    .dataframe tbody tr th:only-of-type {\n        vertical-align: middle;\n    }\n\n    .dataframe tbody tr th {\n        vertical-align: top;\n    }\n\n    .dataframe thead th {\n        text-align: right;\n    }\n</style>\n<table border=\"1\" class=\"dataframe\">\n  <thead>\n    <tr style=\"text-align: right;\">\n      <th></th>\n      <th>Administrative</th>\n      <th>Administrative_Duration</th>\n      <th>Informational</th>\n      <th>Informational_Duration</th>\n      <th>ProductRelated</th>\n      <th>ProductRelated_Duration</th>\n      <th>BounceRates</th>\n      <th>ExitRates</th>\n      <th>PageValues</th>\n      <th>SpecialDay</th>\n      <th>...</th>\n      <th>Month_Feb</th>\n      <th>Month_Mar</th>\n      <th>Month_May</th>\n      <th>Month_June</th>\n      <th>Month_Jul</th>\n      <th>Month_Aug</th>\n      <th>Month_Sep</th>\n      <th>Month_Oct</th>\n      <th>Month_Nov</th>\n      <th>Month_Dec</th>\n    </tr>\n  </thead>\n  <tbody>\n    <tr>\n      <th>0</th>\n      <td>0.0</td>\n      <td>0.0</td>\n      <td>0.0</td>\n      <td>0.0</td>\n      <td>0.0025</td>\n      <td>0.000000</td>\n      <td>1.00</td>\n      <td>1.00</td>\n      <td>0.0</td>\n      <td>0.0</td>\n      <td>...</td>\n      <td>1</td>\n      <td>0</td>\n      <td>0</td>\n      <td>0</td>\n      <td>0</td>\n      <td>0</td>\n      <td>0</td>\n      <td>0</td>\n      <td>0</td>\n      <td>0</td>\n    </tr>\n    <tr>\n      <th>1</th>\n      <td>0.0</td>\n      <td>0.0</td>\n      <td>0.0</td>\n      <td>0.0</td>\n      <td>0.0050</td>\n      <td>0.003200</td>\n      <td>0.00</td>\n      <td>0.50</td>\n      <td>0.0</td>\n      <td>0.0</td>\n      <td>...</td>\n      <td>1</td>\n      <td>0</td>\n      <td>0</td>\n      <td>0</td>\n      <td>0</td>\n      <td>0</td>\n      <td>0</td>\n      <td>0</td>\n      <td>0</td>\n      <td>0</td>\n    </tr>\n    <tr>\n      <th>2</th>\n      <td>0.0</td>\n      <td>0.0</td>\n      <td>0.0</td>\n      <td>0.0</td>\n      <td>0.0025</td>\n      <td>0.000000</td>\n      <td>1.00</td>\n      <td>1.00</td>\n      <td>0.0</td>\n      <td>0.0</td>\n      <td>...</td>\n      <td>1</td>\n      <td>0</td>\n      <td>0</td>\n      <td>0</td>\n      <td>0</td>\n      <td>0</td>\n      <td>0</td>\n      <td>0</td>\n      <td>0</td>\n      <td>0</td>\n    </tr>\n    <tr>\n      <th>3</th>\n      <td>0.0</td>\n      <td>0.0</td>\n      <td>0.0</td>\n      <td>0.0</td>\n      <td>0.0050</td>\n      <td>0.000133</td>\n      <td>0.25</td>\n      <td>0.70</td>\n      <td>0.0</td>\n      <td>0.0</td>\n      <td>...</td>\n      <td>1</td>\n      <td>0</td>\n      <td>0</td>\n      <td>0</td>\n      <td>0</td>\n      <td>0</td>\n      <td>0</td>\n      <td>0</td>\n      <td>0</td>\n      <td>0</td>\n    </tr>\n    <tr>\n      <th>4</th>\n      <td>0.0</td>\n      <td>0.0</td>\n      <td>0.0</td>\n      <td>0.0</td>\n      <td>0.0250</td>\n      <td>0.031375</td>\n      <td>0.10</td>\n      <td>0.25</td>\n      <td>0.0</td>\n      <td>0.0</td>\n      <td>...</td>\n      <td>1</td>\n      <td>0</td>\n      <td>0</td>\n      <td>0</td>\n      <td>0</td>\n      <td>0</td>\n      <td>0</td>\n      <td>0</td>\n      <td>0</td>\n      <td>0</td>\n    </tr>\n  </tbody>\n</table>\n<p>5 rows \u00d7 76 columns</p>\n</div>",
                        "text/plain": "   Administrative  Administrative_Duration  Informational  \\\n0             0.0                      0.0            0.0   \n1             0.0                      0.0            0.0   \n2             0.0                      0.0            0.0   \n3             0.0                      0.0            0.0   \n4             0.0                      0.0            0.0   \n\n   Informational_Duration  ProductRelated  ProductRelated_Duration  \\\n0                     0.0          0.0025                 0.000000   \n1                     0.0          0.0050                 0.003200   \n2                     0.0          0.0025                 0.000000   \n3                     0.0          0.0050                 0.000133   \n4                     0.0          0.0250                 0.031375   \n\n   BounceRates  ExitRates  PageValues  SpecialDay  ...  Month_Feb  Month_Mar  \\\n0         1.00       1.00         0.0         0.0  ...          1          0   \n1         0.00       0.50         0.0         0.0  ...          1          0   \n2         1.00       1.00         0.0         0.0  ...          1          0   \n3         0.25       0.70         0.0         0.0  ...          1          0   \n4         0.10       0.25         0.0         0.0  ...          1          0   \n\n   Month_May  Month_June  Month_Jul  Month_Aug  Month_Sep  Month_Oct  \\\n0          0           0          0          0          0          0   \n1          0           0          0          0          0          0   \n2          0           0          0          0          0          0   \n3          0           0          0          0          0          0   \n4          0           0          0          0          0          0   \n\n   Month_Nov  Month_Dec  \n0          0          0  \n1          0          0  \n2          0          0  \n3          0          0  \n4          0          0  \n\n[5 rows x 76 columns]"
                    },
                    "execution_count": 33,
                    "metadata": {},
                    "output_type": "execute_result"
                }
            ],
            "source": "df_scaled.head()"
        },
        {
            "cell_type": "code",
            "execution_count": 34,
            "metadata": {},
            "outputs": [
                {
                    "data": {
                        "text/html": "<div>\n<style scoped>\n    .dataframe tbody tr th:only-of-type {\n        vertical-align: middle;\n    }\n\n    .dataframe tbody tr th {\n        vertical-align: top;\n    }\n\n    .dataframe thead th {\n        text-align: right;\n    }\n</style>\n<table border=\"1\" class=\"dataframe\">\n  <thead>\n    <tr style=\"text-align: right;\">\n      <th></th>\n      <th>Administrative</th>\n      <th>Administrative_Duration</th>\n      <th>Informational</th>\n      <th>Informational_Duration</th>\n      <th>ProductRelated</th>\n      <th>ProductRelated_Duration</th>\n      <th>BounceRates</th>\n      <th>ExitRates</th>\n      <th>PageValues</th>\n      <th>SpecialDay</th>\n      <th>...</th>\n      <th>Month_Feb</th>\n      <th>Month_Mar</th>\n      <th>Month_May</th>\n      <th>Month_June</th>\n      <th>Month_Jul</th>\n      <th>Month_Aug</th>\n      <th>Month_Sep</th>\n      <th>Month_Oct</th>\n      <th>Month_Nov</th>\n      <th>Month_Dec</th>\n    </tr>\n  </thead>\n  <tbody>\n    <tr>\n      <th>0</th>\n      <td>-0.991065</td>\n      <td>-0.997544</td>\n      <td>-0.52074</td>\n      <td>-0.491916</td>\n      <td>-1.923024</td>\n      <td>-2.094361</td>\n      <td>2.207184</td>\n      <td>1.983626</td>\n      <td>-0.529787</td>\n      <td>-0.336232</td>\n      <td>...</td>\n      <td>1</td>\n      <td>0</td>\n      <td>0</td>\n      <td>0</td>\n      <td>0</td>\n      <td>0</td>\n      <td>0</td>\n      <td>0</td>\n      <td>0</td>\n      <td>0</td>\n    </tr>\n    <tr>\n      <th>1</th>\n      <td>-0.991065</td>\n      <td>-0.997544</td>\n      <td>-0.52074</td>\n      <td>-0.491916</td>\n      <td>-1.576413</td>\n      <td>-1.078325</td>\n      <td>-0.799476</td>\n      <td>1.571869</td>\n      <td>-0.529787</td>\n      <td>-0.336232</td>\n      <td>...</td>\n      <td>1</td>\n      <td>0</td>\n      <td>0</td>\n      <td>0</td>\n      <td>0</td>\n      <td>0</td>\n      <td>0</td>\n      <td>0</td>\n      <td>0</td>\n      <td>0</td>\n    </tr>\n    <tr>\n      <th>2</th>\n      <td>-0.991065</td>\n      <td>-0.997544</td>\n      <td>-0.52074</td>\n      <td>-0.491916</td>\n      <td>-1.923024</td>\n      <td>-2.094361</td>\n      <td>2.207184</td>\n      <td>1.983626</td>\n      <td>-0.529787</td>\n      <td>-0.336232</td>\n      <td>...</td>\n      <td>1</td>\n      <td>0</td>\n      <td>0</td>\n      <td>0</td>\n      <td>0</td>\n      <td>0</td>\n      <td>0</td>\n      <td>0</td>\n      <td>0</td>\n      <td>0</td>\n    </tr>\n    <tr>\n      <th>3</th>\n      <td>-0.991065</td>\n      <td>-0.997544</td>\n      <td>-0.52074</td>\n      <td>-0.491916</td>\n      <td>-1.576413</td>\n      <td>-1.875374</td>\n      <td>1.711008</td>\n      <td>1.833617</td>\n      <td>-0.529787</td>\n      <td>-0.336232</td>\n      <td>...</td>\n      <td>1</td>\n      <td>0</td>\n      <td>0</td>\n      <td>0</td>\n      <td>0</td>\n      <td>0</td>\n      <td>0</td>\n      <td>0</td>\n      <td>0</td>\n      <td>0</td>\n    </tr>\n    <tr>\n      <th>4</th>\n      <td>-0.991065</td>\n      <td>-0.997544</td>\n      <td>-0.52074</td>\n      <td>-0.491916</td>\n      <td>-0.445603</td>\n      <td>0.054466</td>\n      <td>0.758331</td>\n      <td>0.724766</td>\n      <td>-0.529787</td>\n      <td>-0.336232</td>\n      <td>...</td>\n      <td>1</td>\n      <td>0</td>\n      <td>0</td>\n      <td>0</td>\n      <td>0</td>\n      <td>0</td>\n      <td>0</td>\n      <td>0</td>\n      <td>0</td>\n      <td>0</td>\n    </tr>\n  </tbody>\n</table>\n<p>5 rows \u00d7 76 columns</p>\n</div>",
                        "text/plain": "   Administrative  Administrative_Duration  Informational  \\\n0       -0.991065                -0.997544       -0.52074   \n1       -0.991065                -0.997544       -0.52074   \n2       -0.991065                -0.997544       -0.52074   \n3       -0.991065                -0.997544       -0.52074   \n4       -0.991065                -0.997544       -0.52074   \n\n   Informational_Duration  ProductRelated  ProductRelated_Duration  \\\n0               -0.491916       -1.923024                -2.094361   \n1               -0.491916       -1.576413                -1.078325   \n2               -0.491916       -1.923024                -2.094361   \n3               -0.491916       -1.576413                -1.875374   \n4               -0.491916       -0.445603                 0.054466   \n\n   BounceRates  ExitRates  PageValues  SpecialDay  ...  Month_Feb  Month_Mar  \\\n0     2.207184   1.983626   -0.529787   -0.336232  ...          1          0   \n1    -0.799476   1.571869   -0.529787   -0.336232  ...          1          0   \n2     2.207184   1.983626   -0.529787   -0.336232  ...          1          0   \n3     1.711008   1.833617   -0.529787   -0.336232  ...          1          0   \n4     0.758331   0.724766   -0.529787   -0.336232  ...          1          0   \n\n   Month_May  Month_June  Month_Jul  Month_Aug  Month_Sep  Month_Oct  \\\n0          0           0          0          0          0          0   \n1          0           0          0          0          0          0   \n2          0           0          0          0          0          0   \n3          0           0          0          0          0          0   \n4          0           0          0          0          0          0   \n\n   Month_Nov  Month_Dec  \n0          0          0  \n1          0          0  \n2          0          0  \n3          0          0  \n4          0          0  \n\n[5 rows x 76 columns]"
                    },
                    "execution_count": 34,
                    "metadata": {},
                    "output_type": "execute_result"
                }
            ],
            "source": "df_transformed.head()"
        },
        {
            "cell_type": "code",
            "execution_count": 35,
            "metadata": {},
            "outputs": [
                {
                    "data": {
                        "text/html": "<div>\n<style scoped>\n    .dataframe tbody tr th:only-of-type {\n        vertical-align: middle;\n    }\n\n    .dataframe tbody tr th {\n        vertical-align: top;\n    }\n\n    .dataframe thead th {\n        text-align: right;\n    }\n</style>\n<table border=\"1\" class=\"dataframe\">\n  <thead>\n    <tr style=\"text-align: right;\">\n      <th></th>\n      <th>Administrative</th>\n      <th>Administrative_Duration</th>\n      <th>Informational</th>\n      <th>Informational_Duration</th>\n      <th>ProductRelated</th>\n      <th>ProductRelated_Duration</th>\n      <th>BounceRates</th>\n      <th>ExitRates</th>\n      <th>PageValues</th>\n      <th>SpecialDay</th>\n      <th>...</th>\n      <th>Month_Feb</th>\n      <th>Month_Mar</th>\n      <th>Month_May</th>\n      <th>Month_June</th>\n      <th>Month_Jul</th>\n      <th>Month_Aug</th>\n      <th>Month_Sep</th>\n      <th>Month_Oct</th>\n      <th>Month_Nov</th>\n      <th>Month_Dec</th>\n    </tr>\n  </thead>\n  <tbody>\n    <tr>\n      <th>0</th>\n      <td>0.0</td>\n      <td>0.0</td>\n      <td>0.0</td>\n      <td>0.0</td>\n      <td>1.0</td>\n      <td>0.000000</td>\n      <td>0.20</td>\n      <td>0.20</td>\n      <td>0.0</td>\n      <td>0.0</td>\n      <td>...</td>\n      <td>1</td>\n      <td>0</td>\n      <td>0</td>\n      <td>0</td>\n      <td>0</td>\n      <td>0</td>\n      <td>0</td>\n      <td>0</td>\n      <td>0</td>\n      <td>0</td>\n    </tr>\n    <tr>\n      <th>1</th>\n      <td>0.0</td>\n      <td>0.0</td>\n      <td>0.0</td>\n      <td>0.0</td>\n      <td>2.0</td>\n      <td>64.000000</td>\n      <td>0.00</td>\n      <td>0.10</td>\n      <td>0.0</td>\n      <td>0.0</td>\n      <td>...</td>\n      <td>1</td>\n      <td>0</td>\n      <td>0</td>\n      <td>0</td>\n      <td>0</td>\n      <td>0</td>\n      <td>0</td>\n      <td>0</td>\n      <td>0</td>\n      <td>0</td>\n    </tr>\n    <tr>\n      <th>2</th>\n      <td>0.0</td>\n      <td>0.0</td>\n      <td>0.0</td>\n      <td>0.0</td>\n      <td>1.0</td>\n      <td>0.000000</td>\n      <td>0.20</td>\n      <td>0.20</td>\n      <td>0.0</td>\n      <td>0.0</td>\n      <td>...</td>\n      <td>1</td>\n      <td>0</td>\n      <td>0</td>\n      <td>0</td>\n      <td>0</td>\n      <td>0</td>\n      <td>0</td>\n      <td>0</td>\n      <td>0</td>\n      <td>0</td>\n    </tr>\n    <tr>\n      <th>3</th>\n      <td>0.0</td>\n      <td>0.0</td>\n      <td>0.0</td>\n      <td>0.0</td>\n      <td>2.0</td>\n      <td>2.666667</td>\n      <td>0.05</td>\n      <td>0.14</td>\n      <td>0.0</td>\n      <td>0.0</td>\n      <td>...</td>\n      <td>1</td>\n      <td>0</td>\n      <td>0</td>\n      <td>0</td>\n      <td>0</td>\n      <td>0</td>\n      <td>0</td>\n      <td>0</td>\n      <td>0</td>\n      <td>0</td>\n    </tr>\n    <tr>\n      <th>4</th>\n      <td>0.0</td>\n      <td>0.0</td>\n      <td>0.0</td>\n      <td>0.0</td>\n      <td>10.0</td>\n      <td>627.500000</td>\n      <td>0.02</td>\n      <td>0.05</td>\n      <td>0.0</td>\n      <td>0.0</td>\n      <td>...</td>\n      <td>1</td>\n      <td>0</td>\n      <td>0</td>\n      <td>0</td>\n      <td>0</td>\n      <td>0</td>\n      <td>0</td>\n      <td>0</td>\n      <td>0</td>\n      <td>0</td>\n    </tr>\n  </tbody>\n</table>\n<p>5 rows \u00d7 76 columns</p>\n</div>",
                        "text/plain": "   Administrative  Administrative_Duration  Informational  \\\n0             0.0                      0.0            0.0   \n1             0.0                      0.0            0.0   \n2             0.0                      0.0            0.0   \n3             0.0                      0.0            0.0   \n4             0.0                      0.0            0.0   \n\n   Informational_Duration  ProductRelated  ProductRelated_Duration  \\\n0                     0.0             1.0                 0.000000   \n1                     0.0             2.0                64.000000   \n2                     0.0             1.0                 0.000000   \n3                     0.0             2.0                 2.666667   \n4                     0.0            10.0               627.500000   \n\n   BounceRates  ExitRates  PageValues  SpecialDay  ...  Month_Feb  Month_Mar  \\\n0         0.20       0.20         0.0         0.0  ...          1          0   \n1         0.00       0.10         0.0         0.0  ...          1          0   \n2         0.20       0.20         0.0         0.0  ...          1          0   \n3         0.05       0.14         0.0         0.0  ...          1          0   \n4         0.02       0.05         0.0         0.0  ...          1          0   \n\n   Month_May  Month_June  Month_Jul  Month_Aug  Month_Sep  Month_Oct  \\\n0          0           0          0          0          0          0   \n1          0           0          0          0          0          0   \n2          0           0          0          0          0          0   \n3          0           0          0          0          0          0   \n4          0           0          0          0          0          0   \n\n   Month_Nov  Month_Dec  \n0          0          0  \n1          0          0  \n2          0          0  \n3          0          0  \n4          0          0  \n\n[5 rows x 76 columns]"
                    },
                    "execution_count": 35,
                    "metadata": {},
                    "output_type": "execute_result"
                }
            ],
            "source": "df_encoded.head()"
        },
        {
            "cell_type": "code",
            "execution_count": null,
            "metadata": {},
            "outputs": [],
            "source": ""
        }
    ],
    "metadata": {
        "kernelspec": {
            "display_name": "Python 3.6",
            "language": "python",
            "name": "python3"
        },
        "language_info": {
            "codemirror_mode": {
                "name": "ipython",
                "version": 3
            },
            "file_extension": ".py",
            "mimetype": "text/x-python",
            "name": "python",
            "nbconvert_exporter": "python",
            "pygments_lexer": "ipython3",
            "version": "3.6.9"
        }
    },
    "nbformat": 4,
    "nbformat_minor": 1
}